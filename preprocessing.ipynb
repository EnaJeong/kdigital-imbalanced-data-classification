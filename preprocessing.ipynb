{
 "cells": [
  {
   "cell_type": "code",
   "execution_count": 1,
   "metadata": {},
   "outputs": [],
   "source": [
    "import pickle\n",
    "import pandas as pd\n",
    "import numpy as np\n",
    "import matplotlib.pyplot as plt"
   ]
  },
  {
   "cell_type": "markdown",
   "metadata": {},
   "source": [
    "# 데이터 불러오기"
   ]
  },
  {
   "cell_type": "code",
   "execution_count": 2,
   "metadata": {},
   "outputs": [
    {
     "name": "stdout",
     "output_type": "stream",
     "text": [
      "   Time        V1        V2        V3        V4        V5        V6        V7  \\\n",
      "0   0.0 -1.359807 -0.072781  2.536347  1.378155 -0.338321  0.462388  0.239599   \n",
      "1   0.0  1.191857  0.266151  0.166480  0.448154  0.060018 -0.082361 -0.078803   \n",
      "2   1.0 -1.358354 -1.340163  1.773209  0.379780 -0.503198  1.800499  0.791461   \n",
      "3   1.0 -0.966272 -0.185226  1.792993 -0.863291 -0.010309  1.247203  0.237609   \n",
      "4   2.0 -1.158233  0.877737  1.548718  0.403034 -0.407193  0.095921  0.592941   \n",
      "\n",
      "         V8        V9       V10       V11       V12       V13       V14  \\\n",
      "0  0.098698  0.363787  0.090794 -0.551600 -0.617801 -0.991390 -0.311169   \n",
      "1  0.085102 -0.255425 -0.166974  1.612727  1.065235  0.489095 -0.143772   \n",
      "2  0.247676 -1.514654  0.207643  0.624501  0.066084  0.717293 -0.165946   \n",
      "3  0.377436 -1.387024 -0.054952 -0.226487  0.178228  0.507757 -0.287924   \n",
      "4 -0.270533  0.817739  0.753074 -0.822843  0.538196  1.345852 -1.119670   \n",
      "\n",
      "        V15       V16       V17       V18       V19       V20       V21  \\\n",
      "0  1.468177 -0.470401  0.207971  0.025791  0.403993  0.251412 -0.018307   \n",
      "1  0.635558  0.463917 -0.114805 -0.183361 -0.145783 -0.069083 -0.225775   \n",
      "2  2.345865 -2.890083  1.109969 -0.121359 -2.261857  0.524980  0.247998   \n",
      "3 -0.631418 -1.059647 -0.684093  1.965775 -1.232622 -0.208038 -0.108300   \n",
      "4  0.175121 -0.451449 -0.237033 -0.038195  0.803487  0.408542 -0.009431   \n",
      "\n",
      "        V22       V23       V24       V25       V26       V27       V28  \\\n",
      "0  0.277838 -0.110474  0.066928  0.128539 -0.189115  0.133558 -0.021053   \n",
      "1 -0.638672  0.101288 -0.339846  0.167170  0.125895 -0.008983  0.014724   \n",
      "2  0.771679  0.909412 -0.689281 -0.327642 -0.139097 -0.055353 -0.059752   \n",
      "3  0.005274 -0.190321 -1.175575  0.647376 -0.221929  0.062723  0.061458   \n",
      "4  0.798278 -0.137458  0.141267 -0.206010  0.502292  0.219422  0.215153   \n",
      "\n",
      "   Amount  Class  \n",
      "0  149.62      0  \n",
      "1    2.69      0  \n",
      "2  378.66      0  \n",
      "3  123.50      0  \n",
      "4   69.99      0  \n",
      "<class 'pandas.core.frame.DataFrame'>\n",
      "RangeIndex: 284807 entries, 0 to 284806\n",
      "Data columns (total 31 columns):\n",
      " #   Column  Non-Null Count   Dtype  \n",
      "---  ------  --------------   -----  \n",
      " 0   Time    284807 non-null  float64\n",
      " 1   V1      284807 non-null  float64\n",
      " 2   V2      284807 non-null  float64\n",
      " 3   V3      284807 non-null  float64\n",
      " 4   V4      284807 non-null  float64\n",
      " 5   V5      284807 non-null  float64\n",
      " 6   V6      284807 non-null  float64\n",
      " 7   V7      284807 non-null  float64\n",
      " 8   V8      284807 non-null  float64\n",
      " 9   V9      284807 non-null  float64\n",
      " 10  V10     284807 non-null  float64\n",
      " 11  V11     284807 non-null  float64\n",
      " 12  V12     284807 non-null  float64\n",
      " 13  V13     284807 non-null  float64\n",
      " 14  V14     284807 non-null  float64\n",
      " 15  V15     284807 non-null  float64\n",
      " 16  V16     284807 non-null  float64\n",
      " 17  V17     284807 non-null  float64\n",
      " 18  V18     284807 non-null  float64\n",
      " 19  V19     284807 non-null  float64\n",
      " 20  V20     284807 non-null  float64\n",
      " 21  V21     284807 non-null  float64\n",
      " 22  V22     284807 non-null  float64\n",
      " 23  V23     284807 non-null  float64\n",
      " 24  V24     284807 non-null  float64\n",
      " 25  V25     284807 non-null  float64\n",
      " 26  V26     284807 non-null  float64\n",
      " 27  V27     284807 non-null  float64\n",
      " 28  V28     284807 non-null  float64\n",
      " 29  Amount  284807 non-null  float64\n",
      " 30  Class   284807 non-null  int64  \n",
      "dtypes: float64(30), int64(1)\n",
      "memory usage: 67.4 MB\n",
      "None\n",
      "                Time            V1            V2            V3            V4  \\\n",
      "count  284807.000000  2.848070e+05  2.848070e+05  2.848070e+05  2.848070e+05   \n",
      "mean    94813.859575  3.919560e-15  5.688174e-16 -8.769071e-15  2.782312e-15   \n",
      "std     47488.145955  1.958696e+00  1.651309e+00  1.516255e+00  1.415869e+00   \n",
      "min         0.000000 -5.640751e+01 -7.271573e+01 -4.832559e+01 -5.683171e+00   \n",
      "25%     54201.500000 -9.203734e-01 -5.985499e-01 -8.903648e-01 -8.486401e-01   \n",
      "50%     84692.000000  1.810880e-02  6.548556e-02  1.798463e-01 -1.984653e-02   \n",
      "75%    139320.500000  1.315642e+00  8.037239e-01  1.027196e+00  7.433413e-01   \n",
      "max    172792.000000  2.454930e+00  2.205773e+01  9.382558e+00  1.687534e+01   \n",
      "\n",
      "                 V5            V6            V7            V8            V9  \\\n",
      "count  2.848070e+05  2.848070e+05  2.848070e+05  2.848070e+05  2.848070e+05   \n",
      "mean  -1.552563e-15  2.010663e-15 -1.694249e-15 -1.927028e-16 -3.137024e-15   \n",
      "std    1.380247e+00  1.332271e+00  1.237094e+00  1.194353e+00  1.098632e+00   \n",
      "min   -1.137433e+02 -2.616051e+01 -4.355724e+01 -7.321672e+01 -1.343407e+01   \n",
      "25%   -6.915971e-01 -7.682956e-01 -5.540759e-01 -2.086297e-01 -6.430976e-01   \n",
      "50%   -5.433583e-02 -2.741871e-01  4.010308e-02  2.235804e-02 -5.142873e-02   \n",
      "75%    6.119264e-01  3.985649e-01  5.704361e-01  3.273459e-01  5.971390e-01   \n",
      "max    3.480167e+01  7.330163e+01  1.205895e+02  2.000721e+01  1.559499e+01   \n",
      "\n",
      "                V10           V11           V12           V13           V14  \\\n",
      "count  2.848070e+05  2.848070e+05  2.848070e+05  2.848070e+05  2.848070e+05   \n",
      "mean   1.768627e-15  9.170318e-16 -1.810658e-15  1.693438e-15  1.479045e-15   \n",
      "std    1.088850e+00  1.020713e+00  9.992014e-01  9.952742e-01  9.585956e-01   \n",
      "min   -2.458826e+01 -4.797473e+00 -1.868371e+01 -5.791881e+00 -1.921433e+01   \n",
      "25%   -5.354257e-01 -7.624942e-01 -4.055715e-01 -6.485393e-01 -4.255740e-01   \n",
      "50%   -9.291738e-02 -3.275735e-02  1.400326e-01 -1.356806e-02  5.060132e-02   \n",
      "75%    4.539234e-01  7.395934e-01  6.182380e-01  6.625050e-01  4.931498e-01   \n",
      "max    2.374514e+01  1.201891e+01  7.848392e+00  7.126883e+00  1.052677e+01   \n",
      "\n",
      "                V15           V16           V17           V18           V19  \\\n",
      "count  2.848070e+05  2.848070e+05  2.848070e+05  2.848070e+05  2.848070e+05   \n",
      "mean   3.482336e-15  1.392007e-15 -7.528491e-16  4.328772e-16  9.049732e-16   \n",
      "std    9.153160e-01  8.762529e-01  8.493371e-01  8.381762e-01  8.140405e-01   \n",
      "min   -4.498945e+00 -1.412985e+01 -2.516280e+01 -9.498746e+00 -7.213527e+00   \n",
      "25%   -5.828843e-01 -4.680368e-01 -4.837483e-01 -4.988498e-01 -4.562989e-01   \n",
      "50%    4.807155e-02  6.641332e-02 -6.567575e-02 -3.636312e-03  3.734823e-03   \n",
      "75%    6.488208e-01  5.232963e-01  3.996750e-01  5.008067e-01  4.589494e-01   \n",
      "max    8.877742e+00  1.731511e+01  9.253526e+00  5.041069e+00  5.591971e+00   \n",
      "\n",
      "                V20           V21           V22           V23           V24  \\\n",
      "count  2.848070e+05  2.848070e+05  2.848070e+05  2.848070e+05  2.848070e+05   \n",
      "mean   5.085503e-16  1.537294e-16  7.959909e-16  5.367590e-16  4.458112e-15   \n",
      "std    7.709250e-01  7.345240e-01  7.257016e-01  6.244603e-01  6.056471e-01   \n",
      "min   -5.449772e+01 -3.483038e+01 -1.093314e+01 -4.480774e+01 -2.836627e+00   \n",
      "25%   -2.117214e-01 -2.283949e-01 -5.423504e-01 -1.618463e-01 -3.545861e-01   \n",
      "50%   -6.248109e-02 -2.945017e-02  6.781943e-03 -1.119293e-02  4.097606e-02   \n",
      "75%    1.330408e-01  1.863772e-01  5.285536e-01  1.476421e-01  4.395266e-01   \n",
      "max    3.942090e+01  2.720284e+01  1.050309e+01  2.252841e+01  4.584549e+00   \n",
      "\n",
      "                V25           V26           V27           V28         Amount  \\\n",
      "count  2.848070e+05  2.848070e+05  2.848070e+05  2.848070e+05  284807.000000   \n",
      "mean   1.453003e-15  1.699104e-15 -3.660161e-16 -1.206049e-16      88.349619   \n",
      "std    5.212781e-01  4.822270e-01  4.036325e-01  3.300833e-01     250.120109   \n",
      "min   -1.029540e+01 -2.604551e+00 -2.256568e+01 -1.543008e+01       0.000000   \n",
      "25%   -3.171451e-01 -3.269839e-01 -7.083953e-02 -5.295979e-02       5.600000   \n",
      "50%    1.659350e-02 -5.213911e-02  1.342146e-03  1.124383e-02      22.000000   \n",
      "75%    3.507156e-01  2.409522e-01  9.104512e-02  7.827995e-02      77.165000   \n",
      "max    7.519589e+00  3.517346e+00  3.161220e+01  3.384781e+01   25691.160000   \n",
      "\n",
      "               Class  \n",
      "count  284807.000000  \n",
      "mean        0.001727  \n",
      "std         0.041527  \n",
      "min         0.000000  \n",
      "25%         0.000000  \n",
      "50%         0.000000  \n",
      "75%         0.000000  \n",
      "max         1.000000  \n"
     ]
    }
   ],
   "source": [
    "pd.set_option(\"display.max_columns\", None)\n",
    "df = pd.read_csv('./creditcard.csv')\n",
    "print(df.head())\n",
    "print(df.info())\n",
    "print(df.describe())"
   ]
  },
  {
   "cell_type": "code",
   "execution_count": 3,
   "metadata": {},
   "outputs": [
    {
     "data": {
      "text/plain": [
       "0    284315\n",
       "1       492\n",
       "Name: Class, dtype: int64"
      ]
     },
     "execution_count": 3,
     "metadata": {},
     "output_type": "execute_result"
    },
    {
     "data": {
      "image/png": "[encoded data removed]",
      "text/plain": [
       "<Figure size 432x288 with 1 Axes>"
      ]
     },
     "metadata": {
      "needs_background": "light"
     },
     "output_type": "display_data"
    }
   ],
   "source": [
    "pd.value_counts(df['Class']).plot.bar()\n",
    "plt.title('Fraud class histogram')\n",
    "plt.xlabel('Class')\n",
    "plt.ylabel('Frequency')\n",
    "df['Class'].value_counts()"
   ]
  },
  {
   "cell_type": "markdown",
   "metadata": {},
   "source": [
    "# 스케일링"
   ]
  },
  {
   "cell_type": "code",
   "execution_count": 4,
   "metadata": {},
   "outputs": [],
   "source": [
    "# from sklearn.preprocessing import StandardScaler\n",
    "\n",
    "# data['normAmount'] = StandardScaler().fit_transform(data['Amount'].reshape(-1, 1))\n",
    "# data = data.drop(['Time', 'Amount'], axis=1)\n",
    "# data.head()"
   ]
  },
  {
   "cell_type": "code",
   "execution_count": 5,
   "metadata": {},
   "outputs": [
    {
     "name": "stdout",
     "output_type": "stream",
     "text": [
      "\n",
      "Time_unscaled : \n",
      " [[0.00000e+00]\n",
      " [0.00000e+00]\n",
      " [1.00000e+00]\n",
      " ...\n",
      " [1.72788e+05]\n",
      " [1.72788e+05]\n",
      " [1.72792e+05]]\n",
      "\n",
      "Time_scaled : \n",
      " [[-0.99498349]\n",
      " [-0.99498349]\n",
      " [-0.99497175]\n",
      " ...\n",
      " [ 1.03497457]\n",
      " [ 1.03497457]\n",
      " [ 1.03502156]]\n",
      "\n",
      "Amount_unscaled : \n",
      " [[149.62]\n",
      " [  2.69]\n",
      " [378.66]\n",
      " ...\n",
      " [ 67.88]\n",
      " [ 10.  ]\n",
      " [217.  ]]\n",
      "\n",
      "Amount_scaled : \n",
      " [[ 1.78327395]\n",
      " [-0.26982463]\n",
      " [ 4.98372109]\n",
      " ...\n",
      " [ 0.64109551]\n",
      " [-0.16767973]\n",
      " [ 2.72479564]]\n"
     ]
    }
   ],
   "source": [
    "from sklearn.preprocessing import RobustScaler\n",
    "\n",
    "robust_scaler = RobustScaler()\n",
    "\n",
    "target = 'Time'\n",
    "data = df[target].values.reshape(-1, 1)\n",
    "print('\\nTime_unscaled : \\n' , data)\n",
    "df[target] = robust_scaler.fit_transform(data)\n",
    "print('\\nTime_scaled : \\n' , data)\n",
    "\n",
    "target = 'Amount'\n",
    "data = df[target].values.reshape(-1, 1)\n",
    "print('\\nAmount_unscaled : \\n' ,data)\n",
    "df[target] = robust_scaler.fit_transform(data)\n",
    "print('\\nAmount_scaled : \\n' ,data)\n"
   ]
  },
  {
   "cell_type": "markdown",
   "metadata": {},
   "source": [
    "# 스플릿"
   ]
  },
  {
   "cell_type": "code",
   "execution_count": 6,
   "metadata": {
    "scrolled": false
   },
   "outputs": [
    {
     "name": "stdout",
     "output_type": "stream",
     "text": [
      "Shape of X: (284807, 30)\n",
      "Shape of y: (284807,)\n",
      "x_train dataset:  (227845, 30)\n",
      "y_train dataset:  (227845,)\n",
      "x_test dataset:  (56962, 30)\n",
      "y_test dataset:  (56962,)\n"
     ]
    }
   ],
   "source": [
    "from sklearn.model_selection import train_test_split\n",
    "from sklearn.model_selection import StratifiedShuffleSplit\n",
    "\n",
    "X = df.drop('Class', axis=1)\n",
    "y = df['Class']\n",
    "\n",
    "print('Shape of X: {}'.format(X.shape))\n",
    "print('Shape of y: {}'.format(y.shape))\n",
    "\n",
    "x_train, x_test, y_train, y_test = train_test_split(X, y, test_size=0.2, random_state=2)\n",
    "\n",
    "print(\"x_train dataset: \", x_train.shape)\n",
    "print(\"y_train dataset: \", y_train.shape)\n",
    "print(\"x_test dataset: \", x_test.shape)\n",
    "print(\"y_test dataset: \", y_test.shape)"
   ]
  },
  {
   "cell_type": "markdown",
   "metadata": {},
   "source": [
    "# 샘플링 \n",
    "# (+ 결과 pickle 저장_샘플링 시간 절약)"
   ]
  },
  {
   "cell_type": "markdown",
   "metadata": {},
   "source": [
    "최종 적용할 샘플링 기법 : SMOTE ADASYN CNN SMOTE + ENN ADASYN + ENN\n",
    "\n",
    "참고용으로 확인해 볼 샘플링 기법 : TomekLink SMOTE + TomekLink\n",
    "\n",
    "=> 우리가 사용하는 데이터에서는 Tomek Link 쌍이 없기 때문에 사용할 의미가 없다.\n",
    "\n",
    "random_state는 2로 통일"
   ]
  },
  {
   "cell_type": "code",
   "execution_count": 7,
   "metadata": {},
   "outputs": [
    {
     "name": "stdout",
     "output_type": "stream",
     "text": [
      "\n",
      "X_samples :  2 y_samples :  2\n",
      "After OverSampling, the shape of train_X: (227845, 30)\n",
      "After OverSampling, the shape of train_y: (227845,) \n",
      "\n",
      "After OverSampling, counts of label '1': 408\n",
      "After OverSampling, counts of label '0': 227437\n",
      "\n",
      "X_samples :  3 y_samples :  3\n",
      "After OverSampling, the shape of train_X: (227845, 30)\n",
      "After OverSampling, the shape of train_y: (227845,) \n",
      "\n",
      "After OverSampling, counts of label '1': 408\n",
      "After OverSampling, counts of label '0': 227437\n",
      "\n",
      "X_samples :  4 y_samples :  4\n",
      "After OverSampling, the shape of train_X: (227845, 30)\n",
      "After OverSampling, the shape of train_y: (227845,) \n",
      "\n",
      "After OverSampling, counts of label '1': 408\n",
      "After OverSampling, counts of label '0': 227437\n",
      "\n",
      "X_samples :  5 y_samples :  5\n",
      "After OverSampling, the shape of train_X: (227845, 30)\n",
      "After OverSampling, the shape of train_y: (227845,) \n",
      "\n",
      "After OverSampling, counts of label '1': 408\n",
      "After OverSampling, counts of label '0': 227437\n",
      "Wall time: 3h 44min 58s\n"
     ]
    }
   ],
   "source": [
    "%%time\n",
    "\n",
    "from imblearn.over_sampling import SMOTE, ADASYN\n",
    "from imblearn.under_sampling import CondensedNearestNeighbour\n",
    "from imblearn.combine import SMOTEENN\n",
    "\n",
    "X_samples = {'Raw': x_train}\n",
    "y_samples = {'Raw': y_train}\n",
    "\n",
    "#n_jobs : 시간 단축 위해\n",
    "samplers = {'SMOTE' : SMOTE(random_state=2,n_jobs=-1),\n",
    "            'ADASYN': ADASYN(random_state=2,n_jobs=-1),\n",
    "            'CNN'   : CondensedNearestNeighbour(random_state=2,n_jobs=-1),\n",
    "            'SMOTEENN': SMOTEENN(random_state=2,n_jobs=-1)}\n",
    "            \n",
    "for name, sampler in samplers.items():\n",
    "    X_samples[name], y_samples[name] = sampler.fit_resample(x_train, y_train)\n",
    "\n",
    "    print('\\nX_samples : ',len(X_samples),'y_samples : ',len(y_samples))\n",
    "    \n",
    "    print('After OverSampling, the shape of train_X: {}'.format(x_train.shape))\n",
    "    print('After OverSampling, the shape of train_y: {} \\n'.format(y_train.shape))\n",
    "\n",
    "    print(\"After OverSampling, counts of label '1': {}\".format(sum(y_train==1)))\n",
    "    print(\"After OverSampling, counts of label '0': {}\".format(sum(y_train==0)))\n",
    "    \n",
    "    with open('x_samples.pickle','wb')as f:\n",
    "        pickle.dump(X_samples,f,pickle.HIGHEST_PROTOCOL)\n",
    "    with open('y_samples.pickle','wb')as f:\n",
    "        pickle.dump(y_samples,f,pickle.HIGHEST_PROTOCOL)"
   ]
  },
  {
   "cell_type": "code",
   "execution_count": 27,
   "metadata": {},
   "outputs": [
    {
     "ename": "RecursionError",
     "evalue": "maximum recursion depth exceeded",
     "output_type": "error",
     "traceback": [
      "\u001b[1;31m---------------------------------------------------------------------------\u001b[0m",
      "\u001b[1;31mRecursionError\u001b[0m                            Traceback (most recent call last)",
      "\u001b[1;32m<ipython-input-27-7abe6c451ac3>\u001b[0m in \u001b[0;36m<module>\u001b[1;34m\u001b[0m\n\u001b[0;32m      3\u001b[0m \u001b[1;33m\u001b[0m\u001b[0m\n\u001b[0;32m      4\u001b[0m \u001b[1;32mfor\u001b[0m \u001b[0mname\u001b[0m\u001b[1;33m,\u001b[0m \u001b[0msampler\u001b[0m \u001b[1;32min\u001b[0m \u001b[0msamplers\u001b[0m\u001b[1;33m.\u001b[0m\u001b[0mitems\u001b[0m\u001b[1;33m(\u001b[0m\u001b[1;33m)\u001b[0m\u001b[1;33m:\u001b[0m\u001b[1;33m\u001b[0m\u001b[1;33m\u001b[0m\u001b[0m\n\u001b[1;32m----> 5\u001b[1;33m     \u001b[0mX_test\u001b[0m\u001b[1;33m[\u001b[0m\u001b[0mname\u001b[0m\u001b[1;33m]\u001b[0m\u001b[1;33m,\u001b[0m \u001b[0my_test\u001b[0m\u001b[1;33m[\u001b[0m\u001b[0mname\u001b[0m\u001b[1;33m]\u001b[0m \u001b[1;33m=\u001b[0m \u001b[0msampler\u001b[0m\u001b[1;33m.\u001b[0m\u001b[0mfit_resample\u001b[0m\u001b[1;33m(\u001b[0m\u001b[0mX_test\u001b[0m\u001b[1;33m,\u001b[0m \u001b[0my_test\u001b[0m\u001b[1;33m)\u001b[0m\u001b[1;33m\u001b[0m\u001b[1;33m\u001b[0m\u001b[0m\n\u001b[0m\u001b[0;32m      6\u001b[0m \u001b[1;31m#     X_test[f'{name}'] = x_test\u001b[0m\u001b[1;33m\u001b[0m\u001b[1;33m\u001b[0m\u001b[1;33m\u001b[0m\u001b[0m\n\u001b[0;32m      7\u001b[0m \u001b[1;31m#     y_test[f'{name}'] = y_test\u001b[0m\u001b[1;33m\u001b[0m\u001b[1;33m\u001b[0m\u001b[1;33m\u001b[0m\u001b[0m\n",
      "\u001b[1;32m~\\AppData\\Roaming\\Python\\Python37\\site-packages\\imblearn\\base.py\u001b[0m in \u001b[0;36mfit_resample\u001b[1;34m(self, X, y)\u001b[0m\n\u001b[0;32m     73\u001b[0m             \u001b[0mThe\u001b[0m \u001b[0mcorresponding\u001b[0m \u001b[0mlabel\u001b[0m \u001b[0mof\u001b[0m\u001b[0;31m \u001b[0m\u001b[0;31m`\u001b[0m\u001b[0mX_resampled\u001b[0m\u001b[0;31m`\u001b[0m\u001b[1;33m.\u001b[0m\u001b[1;33m\u001b[0m\u001b[1;33m\u001b[0m\u001b[0m\n\u001b[0;32m     74\u001b[0m         \"\"\"\n\u001b[1;32m---> 75\u001b[1;33m         \u001b[0mcheck_classification_targets\u001b[0m\u001b[1;33m(\u001b[0m\u001b[0my\u001b[0m\u001b[1;33m)\u001b[0m\u001b[1;33m\u001b[0m\u001b[1;33m\u001b[0m\u001b[0m\n\u001b[0m\u001b[0;32m     76\u001b[0m         \u001b[0marrays_transformer\u001b[0m \u001b[1;33m=\u001b[0m \u001b[0mArraysTransformer\u001b[0m\u001b[1;33m(\u001b[0m\u001b[0mX\u001b[0m\u001b[1;33m,\u001b[0m \u001b[0my\u001b[0m\u001b[1;33m)\u001b[0m\u001b[1;33m\u001b[0m\u001b[1;33m\u001b[0m\u001b[0m\n\u001b[0;32m     77\u001b[0m         \u001b[0mX\u001b[0m\u001b[1;33m,\u001b[0m \u001b[0my\u001b[0m\u001b[1;33m,\u001b[0m \u001b[0mbinarize_y\u001b[0m \u001b[1;33m=\u001b[0m \u001b[0mself\u001b[0m\u001b[1;33m.\u001b[0m\u001b[0m_check_X_y\u001b[0m\u001b[1;33m(\u001b[0m\u001b[0mX\u001b[0m\u001b[1;33m,\u001b[0m \u001b[0my\u001b[0m\u001b[1;33m)\u001b[0m\u001b[1;33m\u001b[0m\u001b[1;33m\u001b[0m\u001b[0m\n",
      "\u001b[1;32m~\\AppData\\Roaming\\Python\\Python37\\site-packages\\sklearn\\utils\\multiclass.py\u001b[0m in \u001b[0;36mcheck_classification_targets\u001b[1;34m(y)\u001b[0m\n\u001b[0;32m    178\u001b[0m     \u001b[0my\u001b[0m \u001b[1;33m:\u001b[0m \u001b[0marray\u001b[0m\u001b[1;33m-\u001b[0m\u001b[0mlike\u001b[0m\u001b[1;33m\u001b[0m\u001b[1;33m\u001b[0m\u001b[0m\n\u001b[0;32m    179\u001b[0m     \"\"\"\n\u001b[1;32m--> 180\u001b[1;33m     \u001b[0my_type\u001b[0m \u001b[1;33m=\u001b[0m \u001b[0mtype_of_target\u001b[0m\u001b[1;33m(\u001b[0m\u001b[0my\u001b[0m\u001b[1;33m)\u001b[0m\u001b[1;33m\u001b[0m\u001b[1;33m\u001b[0m\u001b[0m\n\u001b[0m\u001b[0;32m    181\u001b[0m     if y_type not in ['binary', 'multiclass', 'multiclass-multioutput',\n\u001b[0;32m    182\u001b[0m                       'multilabel-indicator', 'multilabel-sequences']:\n",
      "\u001b[1;32m~\\AppData\\Roaming\\Python\\Python37\\site-packages\\sklearn\\utils\\multiclass.py\u001b[0m in \u001b[0;36mtype_of_target\u001b[1;34m(y)\u001b[0m\n\u001b[0;32m    253\u001b[0m     \u001b[1;32mif\u001b[0m \u001b[1;32mnot\u001b[0m \u001b[0mvalid\u001b[0m\u001b[1;33m:\u001b[0m\u001b[1;33m\u001b[0m\u001b[1;33m\u001b[0m\u001b[0m\n\u001b[0;32m    254\u001b[0m         raise ValueError('Expected array-like (array or non-string sequence), '\n\u001b[1;32m--> 255\u001b[1;33m                          'got %r' % y)\n\u001b[0m\u001b[0;32m    256\u001b[0m \u001b[1;33m\u001b[0m\u001b[0m\n\u001b[0;32m    257\u001b[0m     \u001b[0msparse_pandas\u001b[0m \u001b[1;33m=\u001b[0m \u001b[1;33m(\u001b[0m\u001b[0my\u001b[0m\u001b[1;33m.\u001b[0m\u001b[0m__class__\u001b[0m\u001b[1;33m.\u001b[0m\u001b[0m__name__\u001b[0m \u001b[1;32min\u001b[0m \u001b[1;33m[\u001b[0m\u001b[1;34m'SparseSeries'\u001b[0m\u001b[1;33m,\u001b[0m \u001b[1;34m'SparseArray'\u001b[0m\u001b[1;33m]\u001b[0m\u001b[1;33m)\u001b[0m\u001b[1;33m\u001b[0m\u001b[1;33m\u001b[0m\u001b[0m\n",
      "\u001b[1;32mC:\\ProgramData\\Anaconda3\\lib\\site-packages\\pandas\\core\\series.py\u001b[0m in \u001b[0;36m__repr__\u001b[1;34m(self)\u001b[0m\n\u001b[0;32m   1366\u001b[0m             \u001b[0mbuf\u001b[0m\u001b[1;33m=\u001b[0m\u001b[0mbuf\u001b[0m\u001b[1;33m,\u001b[0m\u001b[1;33m\u001b[0m\u001b[1;33m\u001b[0m\u001b[0m\n\u001b[0;32m   1367\u001b[0m             \u001b[0mname\u001b[0m\u001b[1;33m=\u001b[0m\u001b[0mself\u001b[0m\u001b[1;33m.\u001b[0m\u001b[0mname\u001b[0m\u001b[1;33m,\u001b[0m\u001b[1;33m\u001b[0m\u001b[1;33m\u001b[0m\u001b[0m\n\u001b[1;32m-> 1368\u001b[1;33m             \u001b[0mdtype\u001b[0m\u001b[1;33m=\u001b[0m\u001b[0mself\u001b[0m\u001b[1;33m.\u001b[0m\u001b[0mdtype\u001b[0m\u001b[1;33m,\u001b[0m\u001b[1;33m\u001b[0m\u001b[1;33m\u001b[0m\u001b[0m\n\u001b[0m\u001b[0;32m   1369\u001b[0m             \u001b[0mmin_rows\u001b[0m\u001b[1;33m=\u001b[0m\u001b[0mmin_rows\u001b[0m\u001b[1;33m,\u001b[0m\u001b[1;33m\u001b[0m\u001b[1;33m\u001b[0m\u001b[0m\n\u001b[0;32m   1370\u001b[0m             \u001b[0mmax_rows\u001b[0m\u001b[1;33m=\u001b[0m\u001b[0mmax_rows\u001b[0m\u001b[1;33m,\u001b[0m\u001b[1;33m\u001b[0m\u001b[1;33m\u001b[0m\u001b[0m\n",
      "\u001b[1;32mC:\\ProgramData\\Anaconda3\\lib\\site-packages\\pandas\\core\\generic.py\u001b[0m in \u001b[0;36m__getattr__\u001b[1;34m(self, name)\u001b[0m\n\u001b[0;32m   5270\u001b[0m             \u001b[1;32mreturn\u001b[0m \u001b[0mobject\u001b[0m\u001b[1;33m.\u001b[0m\u001b[0m__getattribute__\u001b[0m\u001b[1;33m(\u001b[0m\u001b[0mself\u001b[0m\u001b[1;33m,\u001b[0m \u001b[0mname\u001b[0m\u001b[1;33m)\u001b[0m\u001b[1;33m\u001b[0m\u001b[1;33m\u001b[0m\u001b[0m\n\u001b[0;32m   5271\u001b[0m         \u001b[1;32melse\u001b[0m\u001b[1;33m:\u001b[0m\u001b[1;33m\u001b[0m\u001b[1;33m\u001b[0m\u001b[0m\n\u001b[1;32m-> 5272\u001b[1;33m             \u001b[1;32mif\u001b[0m \u001b[0mself\u001b[0m\u001b[1;33m.\u001b[0m\u001b[0m_info_axis\u001b[0m\u001b[1;33m.\u001b[0m\u001b[0m_can_hold_identifiers_and_holds_name\u001b[0m\u001b[1;33m(\u001b[0m\u001b[0mname\u001b[0m\u001b[1;33m)\u001b[0m\u001b[1;33m:\u001b[0m\u001b[1;33m\u001b[0m\u001b[1;33m\u001b[0m\u001b[0m\n\u001b[0m\u001b[0;32m   5273\u001b[0m                 \u001b[1;32mreturn\u001b[0m \u001b[0mself\u001b[0m\u001b[1;33m[\u001b[0m\u001b[0mname\u001b[0m\u001b[1;33m]\u001b[0m\u001b[1;33m\u001b[0m\u001b[1;33m\u001b[0m\u001b[0m\n\u001b[0;32m   5274\u001b[0m             \u001b[1;32mreturn\u001b[0m \u001b[0mobject\u001b[0m\u001b[1;33m.\u001b[0m\u001b[0m__getattribute__\u001b[0m\u001b[1;33m(\u001b[0m\u001b[0mself\u001b[0m\u001b[1;33m,\u001b[0m \u001b[0mname\u001b[0m\u001b[1;33m)\u001b[0m\u001b[1;33m\u001b[0m\u001b[1;33m\u001b[0m\u001b[0m\n",
      "... last 1 frames repeated, from the frame below ...\n",
      "\u001b[1;32mC:\\ProgramData\\Anaconda3\\lib\\site-packages\\pandas\\core\\generic.py\u001b[0m in \u001b[0;36m__getattr__\u001b[1;34m(self, name)\u001b[0m\n\u001b[0;32m   5270\u001b[0m             \u001b[1;32mreturn\u001b[0m \u001b[0mobject\u001b[0m\u001b[1;33m.\u001b[0m\u001b[0m__getattribute__\u001b[0m\u001b[1;33m(\u001b[0m\u001b[0mself\u001b[0m\u001b[1;33m,\u001b[0m \u001b[0mname\u001b[0m\u001b[1;33m)\u001b[0m\u001b[1;33m\u001b[0m\u001b[1;33m\u001b[0m\u001b[0m\n\u001b[0;32m   5271\u001b[0m         \u001b[1;32melse\u001b[0m\u001b[1;33m:\u001b[0m\u001b[1;33m\u001b[0m\u001b[1;33m\u001b[0m\u001b[0m\n\u001b[1;32m-> 5272\u001b[1;33m             \u001b[1;32mif\u001b[0m \u001b[0mself\u001b[0m\u001b[1;33m.\u001b[0m\u001b[0m_info_axis\u001b[0m\u001b[1;33m.\u001b[0m\u001b[0m_can_hold_identifiers_and_holds_name\u001b[0m\u001b[1;33m(\u001b[0m\u001b[0mname\u001b[0m\u001b[1;33m)\u001b[0m\u001b[1;33m:\u001b[0m\u001b[1;33m\u001b[0m\u001b[1;33m\u001b[0m\u001b[0m\n\u001b[0m\u001b[0;32m   5273\u001b[0m                 \u001b[1;32mreturn\u001b[0m \u001b[0mself\u001b[0m\u001b[1;33m[\u001b[0m\u001b[0mname\u001b[0m\u001b[1;33m]\u001b[0m\u001b[1;33m\u001b[0m\u001b[1;33m\u001b[0m\u001b[0m\n\u001b[0;32m   5274\u001b[0m             \u001b[1;32mreturn\u001b[0m \u001b[0mobject\u001b[0m\u001b[1;33m.\u001b[0m\u001b[0m__getattribute__\u001b[0m\u001b[1;33m(\u001b[0m\u001b[0mself\u001b[0m\u001b[1;33m,\u001b[0m \u001b[0mname\u001b[0m\u001b[1;33m)\u001b[0m\u001b[1;33m\u001b[0m\u001b[1;33m\u001b[0m\u001b[0m\n",
      "\u001b[1;31mRecursionError\u001b[0m: maximum recursion depth exceeded"
     ]
    }
   ],
   "source": [
    "X_test = {'Raw': x_train}\n",
    "y_test = {'Raw': y_train}\n",
    "\n",
    "for name, sampler in samplers.items():\n",
    "    X_test[name], y_test[name] = sampler.fit_resample(X_test, y_test)\n",
    "#     X_test[f'{name}'] = x_test\n",
    "#     y_test[f'{name}'] = y_test \n",
    "    print('\\X_test : ',len(X_test),'y_test : ',len(y_test))\n",
    "    \n",
    "    print('After OverSampling, the shape of test_X: {}'.format(x_test.shape))\n",
    "    print('After OverSampling, the shape of test_y: {} \\n'.format(y_test.shape))\n",
    "\n",
    "    print(\"After OverSampling, counts of label '1': {}\".format(sum(y_test==1)))\n",
    "    print(\"After OverSampling, counts of label '0': {}\".format(sum(y_test==0)))\n",
    "    \n",
    "    with open('x_test.pickle','wb')as f:\n",
    "        pickle.dump(X_samples,f,pickle.HIGHEST_PROTOCOL)\n",
    "    with open('y_test.pickle','wb')as f:\n",
    "        pickle.dump(y_samples,f,pickle.HIGHEST_PROTOCOL)"
   ]
  },
  {
   "cell_type": "code",
   "execution_count": null,
   "metadata": {},
   "outputs": [],
   "source": [
    "#샘플링 시간 오래걸리니까 우선 smote만 test \n",
    "\n",
    "# %%time\n",
    "# from imblearn.over_sampling import SMOTE\n",
    "\n",
    "# print('After OverSampling, the shape of train_X: {}'.format(x_train.shape))\n",
    "# print('After OverSampling, the shape of train_y: {} \\n'.format(y_train.shape))\n",
    "\n",
    "# print(\"Before OverSampling, counts of label '1': {}\".format(sum(y_train==1)))\n",
    "# print(\"Before OverSampling, counts of label '0': {} \\n\".format(sum(y_train==0)))\n",
    "\n",
    "# X_samples = {'Raw': x_train}\n",
    "# y_samples = {'Raw': y_train}\n",
    "\n",
    "# samplers = {'SMOTE' : SMOTE(random_state=2)}\n",
    "            \n",
    "# for name, sampler in samplers.items():\n",
    "#     X_samples[name], y_samples[name] = sampler.fit_resample(x_train, y_train)\n",
    "#     with open('x_samples_{}.pickle'.format(name),'wb')as f:\n",
    "#         pickle.dump(sampler,f,pickle.HIGHEST_PROTOCOL)\n",
    "#     print('After OverSampling, the shape of train_X: {}'.format(x_train.shape))\n",
    "#     print('After OverSampling, the shape of train_y: {} \\n'.format(y_train.shape))\n",
    "\n",
    "#     print(\"After OverSampling, counts of label '1': {}\".format(sum(y_train_res==1)))\n",
    "#     print(\"After OverSampling, counts of label '0': {}\".format(sum(y_train_res==0)))"
   ]
  },
  {
   "cell_type": "markdown",
   "metadata": {},
   "source": [
    "# pickle 불러오기"
   ]
  },
  {
   "cell_type": "code",
   "execution_count": 22,
   "metadata": {
    "scrolled": true
   },
   "outputs": [],
   "source": [
    "with open(f\"./samples/X_samples.pickle\", \"rb\") as f:\n",
    "    x_train = pickle.load(f)\n",
    "    \n",
    "with open(f\"./samples/y_samples.pickle\", \"rb\") as f:\n",
    "    y_train = pickle.load(f)\n",
    "    \n",
    "with open(f\"./samples/X_test.pickle\", \"rb\") as f:\n",
    "    x_test = pickle.load(f)\n",
    "    \n",
    "with open(f\"./samples/y_test.pickle\", \"rb\") as f:\n",
    "    y_test = pickle.load(f)"
   ]
  },
  {
   "cell_type": "code",
   "execution_count": 24,
   "metadata": {},
   "outputs": [
    {
     "name": "stdout",
     "output_type": "stream",
     "text": [
      "X_samples key :  dict_keys(['Raw', 'SMOTE', 'ADASYN', 'CNN', 'SMOTEENN'])\n",
      "y_samples key :  dict_keys(['Raw', 'SMOTE', 'ADASYN', 'CNN', 'SMOTEENN'])\n"
     ]
    }
   ],
   "source": [
    "print('X_samples key : ' , X_samples.keys()) \n",
    "print('y_samples key : ' , y_samples.keys())\n",
    "# print(x_test.head())\n",
    "# print(y_test.head())"
   ]
  },
  {
   "cell_type": "code",
   "execution_count": 25,
   "metadata": {},
   "outputs": [],
   "source": [
    "data_list = ['Raw', 'SMOTE', 'ADASYN', 'CNN', 'SMOTE + ENN', 'ADASYN + ENN']\n",
    "cols = ['Accuracy', 'Precision', 'Recall', 'F1-Score', 'ROC_AUC']"
   ]
  },
  {
   "cell_type": "markdown",
   "metadata": {},
   "source": [
    "# 모델 적용 (KNN)"
   ]
  },
  {
   "cell_type": "code",
   "execution_count": 16,
   "metadata": {},
   "outputs": [
    {
     "name": "stdout",
     "output_type": "stream",
     "text": [
      "Raw\n"
     ]
    },
    {
     "ename": "ValueError",
     "evalue": "Expected 2D array, got scalar array instead:\narray={'Raw':             Time        V1        V2        V3        V4        V5        V6  \\\n136700 -0.033659 -0.626902  1.172790  1.750623  0.868050  0.015424 -0.771009   \n43219  -0.508371 -0.006068 -2.885932 -0.764538  0.091419 -1.687394 -0.859819   \n18819  -0.644979 -0.531514  0.611990  1.677510  1.281703  0.468128  0.025695   \n174557  0.437916  1.789550 -0.556617 -1.534874  0.343963  0.202157  0.118209   \n120641 -0.103244  1.254183 -0.106286 -0.882852  0.308304  1.985428  3.808663   \n...          ...       ...       ...       ...       ...       ...       ...   \n33867  -0.555411  1.256867  0.413152  0.322996  0.685660 -0.299566 -1.054102   \n84434  -0.286528 -1.093034  1.621979  1.334661  0.818556 -0.181152 -0.660391   \n95816  -0.225708 -0.799005  0.205982  1.512178  0.128515 -0.861328  0.635684   \n203245  0.587895  2.012512 -0.055116 -1.245330  0.272995  0.230934 -0.609708   \n100879 -0.200167  1.292856 -1.112757  1.761397 -0.087415 -2.243419 -0.096352   \n\n              V7        V8        V9       V10       V11       V12       V13  \\\n136700  1.017371 -0.533478 -0.424700  0.243931  0.065733  0.343858  0.827615   \n43219   0.624534 -0.416351 -0.654780  0.274192 -0.695532 -1.127895 -1.119963   \n18819   0.900121 -0.306788  0.252843  0.471176 -0.622090 -0.620314 -1.319585   \n174557 -0.227615 -0.003945  0.972636 -0.548941 -1.383578 -0.090648  0.517222   \n120641 -0.684194  0.938692  0.416300 -0.058576 -0.641114  0.277031 -0.201467   \n...          ...       ...       ...       ...       ...       ...       ...   \n33867   0.141748 -0.249886 -0.090195 -0.306468  0.072227  0.665936  1.036084   \n84434   0.597445  0.157340 -1.014495 -0.407656 -0.454624  0.392683  0.886625   \n95816  -0.432034  0.758099  0.452072 -0.930030 -1.437812 -0.134925 -0.614330   \n203245  0.207339 -0.220928  0.423374  0.013327  0.694155  1.685742  0.978553   \n100879 -1.640693  0.275311  0.886617  0.300522 -1.092211 -0.681716 -1.347632   \n\n             V14       V15       V16       V17       V18       V19       V20  \\\n136700 -0.187471  1.087049 -0.444573 -0.284129 -0.166159  0.343466  0.017828   \n43219   0.217697 -0.001202  0.680765  0.715523 -1.358124  0.586411  1.473102   \n18819  -0.215458  0.424913 -1.335135  0.475083 -0.598703  0.755992  0.170019   \n174557 -1.330589  0.742572  1.140206 -0.026063  0.435850  0.127112  0.222229   \n120641 -0.005331 -0.242579 -0.049570 -0.504435  0.052184  0.337316 -0.048902   \n...          ...       ...       ...       ...       ...       ...       ...   \n33867  -0.448733  1.005042  0.440469 -0.051501 -0.398653 -0.203949 -0.028844   \n84434   0.408923  1.033171 -0.270605 -0.015873  0.026312  0.516262 -0.052241   \n95816  -0.100408  0.342841 -0.571876  0.799367 -0.446101  1.420343  0.117807   \n203245  0.260383 -0.852009 -0.204911 -0.667519 -0.197015  0.668118 -0.149817   \n100879 -1.114945 -1.253126  0.524809  1.085152 -1.310845  0.876017 -0.070721   \n\n             V21       V22       V23       V24       V25       V26       V27  \\\n136700  0.070241  0.369148 -0.063796  0.734099 -0.301282 -0.502040 -0.375145   \n43219   0.584560 -0.003808 -0.801507  0.453660  0.474506 -0.140280 -0.157441   \n18819  -0.145452  0.238458 -0.073162  0.066287 -0.156348 -0.283686 -0.021930   \n174557 -0.307981 -1.132447  0.184282 -0.424180 -0.503949  0.134031 -0.049449   \n120641 -0.137631 -0.289971 -0.132417  1.018395  0.862443 -0.282622  0.043088   \n...          ...       ...       ...       ...       ...       ...       ...   \n33867  -0.278275 -0.763534  0.119647  0.367553  0.243484  0.091687 -0.017777   \n84434   0.168755  0.318385 -0.346367  0.427942  0.537712 -0.221692 -0.309258   \n95816  -0.042553 -0.139181  0.160084 -0.409871 -0.655866  1.078683 -0.021430   \n203245 -0.199295 -0.377174  0.181837 -0.402258 -0.001667 -0.539438 -0.009090   \n100879  0.143809  0.718944 -0.032095  0.758703  0.393596 -0.061467  0.078662   \n\n             V28     Amount  \n136700 -0.081215  -0.028086  \n43219   0.130219  10.188220  \n18819  -0.245350  -0.018585  \n174557  0.006778   1.893523  \n120641  0.015524  -0.275274  \n...          ...        ...  \n33867   0.032565  -0.282401  \n84434   0.001913  -0.062880  \n95816   0.050234   0.747013  \n203245 -0.061492  -0.131070  \n100879  0.027284  -0.293440  \n\n[227845 rows x 30 columns]}.\nReshape your data either using array.reshape(-1, 1) if your data has a single feature or array.reshape(1, -1) if it contains a single sample.",
     "output_type": "error",
     "traceback": [
      "\u001b[1;31m---------------------------------------------------------------------------\u001b[0m",
      "\u001b[1;31mValueError\u001b[0m                                Traceback (most recent call last)",
      "\u001b[1;32m<ipython-input-16-7e051d610c9f>\u001b[0m in \u001b[0;36m<module>\u001b[1;34m\u001b[0m\n\u001b[0;32m      8\u001b[0m \u001b[1;31m#     clf.fit(X, y)\u001b[0m\u001b[1;33m\u001b[0m\u001b[1;33m\u001b[0m\u001b[1;33m\u001b[0m\u001b[0m\n\u001b[0;32m      9\u001b[0m     \u001b[0mclf\u001b[0m\u001b[1;33m.\u001b[0m\u001b[0mfit\u001b[0m\u001b[1;33m(\u001b[0m\u001b[0mX_samples\u001b[0m\u001b[1;33m.\u001b[0m\u001b[0mget\u001b[0m\u001b[1;33m(\u001b[0m\u001b[0mdata_list\u001b[0m\u001b[1;33m[\u001b[0m\u001b[0mdata_list\u001b[0m\u001b[1;33m.\u001b[0m\u001b[0mindex\u001b[0m\u001b[1;33m(\u001b[0m\u001b[0mi\u001b[0m\u001b[1;33m)\u001b[0m\u001b[1;33m]\u001b[0m\u001b[1;33m)\u001b[0m\u001b[1;33m,\u001b[0m \u001b[0my_samples\u001b[0m\u001b[1;33m.\u001b[0m\u001b[0mget\u001b[0m\u001b[1;33m(\u001b[0m\u001b[0mdata_list\u001b[0m\u001b[1;33m[\u001b[0m\u001b[0mdata_list\u001b[0m\u001b[1;33m.\u001b[0m\u001b[0mindex\u001b[0m\u001b[1;33m(\u001b[0m\u001b[0mi\u001b[0m\u001b[1;33m)\u001b[0m\u001b[1;33m]\u001b[0m\u001b[1;33m)\u001b[0m\u001b[1;33m)\u001b[0m\u001b[1;33m\u001b[0m\u001b[1;33m\u001b[0m\u001b[0m\n\u001b[1;32m---> 10\u001b[1;33m     \u001b[0my_pred\u001b[0m \u001b[1;33m=\u001b[0m \u001b[0mclf\u001b[0m\u001b[1;33m.\u001b[0m\u001b[0mpredict\u001b[0m\u001b[1;33m(\u001b[0m\u001b[0mX_test\u001b[0m\u001b[1;33m)\u001b[0m\u001b[1;33m\u001b[0m\u001b[1;33m\u001b[0m\u001b[0m\n\u001b[0m\u001b[0;32m     11\u001b[0m     \u001b[0my_proba\u001b[0m \u001b[1;33m=\u001b[0m \u001b[0mclf\u001b[0m\u001b[1;33m.\u001b[0m\u001b[0mpredict_proba\u001b[0m\u001b[1;33m(\u001b[0m\u001b[0mX_test\u001b[0m\u001b[1;33m)\u001b[0m\u001b[1;33m\u001b[0m\u001b[1;33m\u001b[0m\u001b[0m\n\u001b[0;32m     12\u001b[0m \u001b[1;33m\u001b[0m\u001b[0m\n",
      "\u001b[1;32m~\\AppData\\Roaming\\Python\\Python37\\site-packages\\sklearn\\neighbors\\_classification.py\u001b[0m in \u001b[0;36mpredict\u001b[1;34m(self, X)\u001b[0m\n\u001b[0;32m    193\u001b[0m             \u001b[0mClass\u001b[0m \u001b[0mlabels\u001b[0m \u001b[1;32mfor\u001b[0m \u001b[0meach\u001b[0m \u001b[0mdata\u001b[0m \u001b[0msample\u001b[0m\u001b[1;33m.\u001b[0m\u001b[1;33m\u001b[0m\u001b[1;33m\u001b[0m\u001b[0m\n\u001b[0;32m    194\u001b[0m         \"\"\"\n\u001b[1;32m--> 195\u001b[1;33m         \u001b[0mX\u001b[0m \u001b[1;33m=\u001b[0m \u001b[0mcheck_array\u001b[0m\u001b[1;33m(\u001b[0m\u001b[0mX\u001b[0m\u001b[1;33m,\u001b[0m \u001b[0maccept_sparse\u001b[0m\u001b[1;33m=\u001b[0m\u001b[1;34m'csr'\u001b[0m\u001b[1;33m)\u001b[0m\u001b[1;33m\u001b[0m\u001b[1;33m\u001b[0m\u001b[0m\n\u001b[0m\u001b[0;32m    196\u001b[0m \u001b[1;33m\u001b[0m\u001b[0m\n\u001b[0;32m    197\u001b[0m         \u001b[0mneigh_dist\u001b[0m\u001b[1;33m,\u001b[0m \u001b[0mneigh_ind\u001b[0m \u001b[1;33m=\u001b[0m \u001b[0mself\u001b[0m\u001b[1;33m.\u001b[0m\u001b[0mkneighbors\u001b[0m\u001b[1;33m(\u001b[0m\u001b[0mX\u001b[0m\u001b[1;33m)\u001b[0m\u001b[1;33m\u001b[0m\u001b[1;33m\u001b[0m\u001b[0m\n",
      "\u001b[1;32m~\\AppData\\Roaming\\Python\\Python37\\site-packages\\sklearn\\utils\\validation.py\u001b[0m in \u001b[0;36minner_f\u001b[1;34m(*args, **kwargs)\u001b[0m\n\u001b[0;32m     61\u001b[0m             \u001b[0mextra_args\u001b[0m \u001b[1;33m=\u001b[0m \u001b[0mlen\u001b[0m\u001b[1;33m(\u001b[0m\u001b[0margs\u001b[0m\u001b[1;33m)\u001b[0m \u001b[1;33m-\u001b[0m \u001b[0mlen\u001b[0m\u001b[1;33m(\u001b[0m\u001b[0mall_args\u001b[0m\u001b[1;33m)\u001b[0m\u001b[1;33m\u001b[0m\u001b[1;33m\u001b[0m\u001b[0m\n\u001b[0;32m     62\u001b[0m             \u001b[1;32mif\u001b[0m \u001b[0mextra_args\u001b[0m \u001b[1;33m<=\u001b[0m \u001b[1;36m0\u001b[0m\u001b[1;33m:\u001b[0m\u001b[1;33m\u001b[0m\u001b[1;33m\u001b[0m\u001b[0m\n\u001b[1;32m---> 63\u001b[1;33m                 \u001b[1;32mreturn\u001b[0m \u001b[0mf\u001b[0m\u001b[1;33m(\u001b[0m\u001b[1;33m*\u001b[0m\u001b[0margs\u001b[0m\u001b[1;33m,\u001b[0m \u001b[1;33m**\u001b[0m\u001b[0mkwargs\u001b[0m\u001b[1;33m)\u001b[0m\u001b[1;33m\u001b[0m\u001b[1;33m\u001b[0m\u001b[0m\n\u001b[0m\u001b[0;32m     64\u001b[0m \u001b[1;33m\u001b[0m\u001b[0m\n\u001b[0;32m     65\u001b[0m             \u001b[1;31m# extra_args > 0\u001b[0m\u001b[1;33m\u001b[0m\u001b[1;33m\u001b[0m\u001b[1;33m\u001b[0m\u001b[0m\n",
      "\u001b[1;32m~\\AppData\\Roaming\\Python\\Python37\\site-packages\\sklearn\\utils\\validation.py\u001b[0m in \u001b[0;36mcheck_array\u001b[1;34m(array, accept_sparse, accept_large_sparse, dtype, order, copy, force_all_finite, ensure_2d, allow_nd, ensure_min_samples, ensure_min_features, estimator)\u001b[0m\n\u001b[0;32m    632\u001b[0m                     \u001b[1;34m\"Reshape your data either using array.reshape(-1, 1) if \"\u001b[0m\u001b[1;33m\u001b[0m\u001b[1;33m\u001b[0m\u001b[0m\n\u001b[0;32m    633\u001b[0m                     \u001b[1;34m\"your data has a single feature or array.reshape(1, -1) \"\u001b[0m\u001b[1;33m\u001b[0m\u001b[1;33m\u001b[0m\u001b[0m\n\u001b[1;32m--> 634\u001b[1;33m                     \"if it contains a single sample.\".format(array))\n\u001b[0m\u001b[0;32m    635\u001b[0m             \u001b[1;31m# If input is 1D raise error\u001b[0m\u001b[1;33m\u001b[0m\u001b[1;33m\u001b[0m\u001b[1;33m\u001b[0m\u001b[0m\n\u001b[0;32m    636\u001b[0m             \u001b[1;32mif\u001b[0m \u001b[0marray\u001b[0m\u001b[1;33m.\u001b[0m\u001b[0mndim\u001b[0m \u001b[1;33m==\u001b[0m \u001b[1;36m1\u001b[0m\u001b[1;33m:\u001b[0m\u001b[1;33m\u001b[0m\u001b[1;33m\u001b[0m\u001b[0m\n",
      "\u001b[1;31mValueError\u001b[0m: Expected 2D array, got scalar array instead:\narray={'Raw':             Time        V1        V2        V3        V4        V5        V6  \\\n136700 -0.033659 -0.626902  1.172790  1.750623  0.868050  0.015424 -0.771009   \n43219  -0.508371 -0.006068 -2.885932 -0.764538  0.091419 -1.687394 -0.859819   \n18819  -0.644979 -0.531514  0.611990  1.677510  1.281703  0.468128  0.025695   \n174557  0.437916  1.789550 -0.556617 -1.534874  0.343963  0.202157  0.118209   \n120641 -0.103244  1.254183 -0.106286 -0.882852  0.308304  1.985428  3.808663   \n...          ...       ...       ...       ...       ...       ...       ...   \n33867  -0.555411  1.256867  0.413152  0.322996  0.685660 -0.299566 -1.054102   \n84434  -0.286528 -1.093034  1.621979  1.334661  0.818556 -0.181152 -0.660391   \n95816  -0.225708 -0.799005  0.205982  1.512178  0.128515 -0.861328  0.635684   \n203245  0.587895  2.012512 -0.055116 -1.245330  0.272995  0.230934 -0.609708   \n100879 -0.200167  1.292856 -1.112757  1.761397 -0.087415 -2.243419 -0.096352   \n\n              V7        V8        V9       V10       V11       V12       V13  \\\n136700  1.017371 -0.533478 -0.424700  0.243931  0.065733  0.343858  0.827615   \n43219   0.624534 -0.416351 -0.654780  0.274192 -0.695532 -1.127895 -1.119963   \n18819   0.900121 -0.306788  0.252843  0.471176 -0.622090 -0.620314 -1.319585   \n174557 -0.227615 -0.003945  0.972636 -0.548941 -1.383578 -0.090648  0.517222   \n120641 -0.684194  0.938692  0.416300 -0.058576 -0.641114  0.277031 -0.201467   \n...          ...       ...       ...       ...       ...       ...       ...   \n33867   0.141748 -0.249886 -0.090195 -0.306468  0.072227  0.665936  1.036084   \n84434   0.597445  0.157340 -1.014495 -0.407656 -0.454624  0.392683  0.886625   \n95816  -0.432034  0.758099  0.452072 -0.930030 -1.437812 -0.134925 -0.614330   \n203245  0.207339 -0.220928  0.423374  0.013327  0.694155  1.685742  0.978553   \n100879 -1.640693  0.275311  0.886617  0.300522 -1.092211 -0.681716 -1.347632   \n\n             V14       V15       V16       V17       V18       V19       V20  \\\n136700 -0.187471  1.087049 -0.444573 -0.284129 -0.166159  0.343466  0.017828   \n43219   0.217697 -0.001202  0.680765  0.715523 -1.358124  0.586411  1.473102   \n18819  -0.215458  0.424913 -1.335135  0.475083 -0.598703  0.755992  0.170019   \n174557 -1.330589  0.742572  1.140206 -0.026063  0.435850  0.127112  0.222229   \n120641 -0.005331 -0.242579 -0.049570 -0.504435  0.052184  0.337316 -0.048902   \n...          ...       ...       ...       ...       ...       ...       ...   \n33867  -0.448733  1.005042  0.440469 -0.051501 -0.398653 -0.203949 -0.028844   \n84434   0.408923  1.033171 -0.270605 -0.015873  0.026312  0.516262 -0.052241   \n95816  -0.100408  0.342841 -0.571876  0.799367 -0.446101  1.420343  0.117807   \n203245  0.260383 -0.852009 -0.204911 -0.667519 -0.197015  0.668118 -0.149817   \n100879 -1.114945 -1.253126  0.524809  1.085152 -1.310845  0.876017 -0.070721   \n\n             V21       V22       V23       V24       V25       V26       V27  \\\n136700  0.070241  0.369148 -0.063796  0.734099 -0.301282 -0.502040 -0.375145   \n43219   0.584560 -0.003808 -0.801507  0.453660  0.474506 -0.140280 -0.157441   \n18819  -0.145452  0.238458 -0.073162  0.066287 -0.156348 -0.283686 -0.021930   \n174557 -0.307981 -1.132447  0.184282 -0.424180 -0.503949  0.134031 -0.049449   \n120641 -0.137631 -0.289971 -0.132417  1.018395  0.862443 -0.282622  0.043088   \n...          ...       ...       ...       ...       ...       ...       ...   \n33867  -0.278275 -0.763534  0.119647  0.367553  0.243484  0.091687 -0.017777   \n84434   0.168755  0.318385 -0.346367  0.427942  0.537712 -0.221692 -0.309258   \n95816  -0.042553 -0.139181  0.160084 -0.409871 -0.655866  1.078683 -0.021430   \n203245 -0.199295 -0.377174  0.181837 -0.402258 -0.001667 -0.539438 -0.009090   \n100879  0.143809  0.718944 -0.032095  0.758703  0.393596 -0.061467  0.078662   \n\n             V28     Amount  \n136700 -0.081215  -0.028086  \n43219   0.130219  10.188220  \n18819  -0.245350  -0.018585  \n174557  0.006778   1.893523  \n120641  0.015524  -0.275274  \n...          ...        ...  \n33867   0.032565  -0.282401  \n84434   0.001913  -0.062880  \n95816   0.050234   0.747013  \n203245 -0.061492  -0.131070  \n100879  0.027284  -0.293440  \n\n[227845 rows x 30 columns]}.\nReshape your data either using array.reshape(-1, 1) if your data has a single feature or array.reshape(1, -1) if it contains a single sample."
     ]
    }
   ],
   "source": [
    "from sklearn.neighbors import KNeighborsClassifier\n",
    "\n",
    "clf = KNeighborsClassifier(n_neighbors = 5)\n",
    "\n",
    "data_dict = {}\n",
    "for i in data_list:\n",
    "    print(i)\n",
    "#     clf.fit(X, y)\n",
    "    clf.fit(X_samples.get(data_list[data_list.index(i)]), y_samples.get(data_list[data_list.index(i)]))\n",
    "    y_pred = clf.predict(X_test)\n",
    "    y_proba = clf.predict_proba(X_test)\n",
    "    \n",
    "print(\"classifier created\")"
   ]
  },
  {
   "cell_type": "code",
   "execution_count": null,
   "metadata": {},
   "outputs": [],
   "source": [
    "# from sklearn.neighbors import KNeighborsClassifier\n",
    "\n",
    "# knn_clf = KNeighborsClassifier(n_neighbors = 5,n_jobs=-1)\n",
    "# knn_clf.fit(x_train, y_train)\n",
    "# print(\"classifier created\")\n",
    "\n",
    "# #간단 평가\n",
    "# score = knn.score(x_test,y_test)\n",
    "# print(\"model evaluated\")\n",
    "# print(score)"
   ]
  },
  {
   "cell_type": "markdown",
   "metadata": {},
   "source": [
    "# 평가"
   ]
  },
  {
   "cell_type": "markdown",
   "metadata": {},
   "source": [
    "각 분류 모델의 성능을 평가(model selection) 방법\n",
    "1. Accuracy\n",
    "2. Confusion matrix\n",
    "3. Precision, Recall and F-measure(f1score, f-beta-score) \n",
    "4. Receiver operating characteristic (AUC-ROC)"
   ]
  },
  {
   "cell_type": "code",
   "execution_count": 26,
   "metadata": {},
   "outputs": [
    {
     "ename": "ValueError",
     "evalue": "Expected 2D array, got scalar array instead:\narray={'Raw':             Time        V1        V2        V3        V4        V5        V6  \\\n136700 -0.033659 -0.626902  1.172790  1.750623  0.868050  0.015424 -0.771009   \n43219  -0.508371 -0.006068 -2.885932 -0.764538  0.091419 -1.687394 -0.859819   \n18819  -0.644979 -0.531514  0.611990  1.677510  1.281703  0.468128  0.025695   \n174557  0.437916  1.789550 -0.556617 -1.534874  0.343963  0.202157  0.118209   \n120641 -0.103244  1.254183 -0.106286 -0.882852  0.308304  1.985428  3.808663   \n...          ...       ...       ...       ...       ...       ...       ...   \n33867  -0.555411  1.256867  0.413152  0.322996  0.685660 -0.299566 -1.054102   \n84434  -0.286528 -1.093034  1.621979  1.334661  0.818556 -0.181152 -0.660391   \n95816  -0.225708 -0.799005  0.205982  1.512178  0.128515 -0.861328  0.635684   \n203245  0.587895  2.012512 -0.055116 -1.245330  0.272995  0.230934 -0.609708   \n100879 -0.200167  1.292856 -1.112757  1.761397 -0.087415 -2.243419 -0.096352   \n\n              V7        V8        V9       V10       V11       V12       V13  \\\n136700  1.017371 -0.533478 -0.424700  0.243931  0.065733  0.343858  0.827615   \n43219   0.624534 -0.416351 -0.654780  0.274192 -0.695532 -1.127895 -1.119963   \n18819   0.900121 -0.306788  0.252843  0.471176 -0.622090 -0.620314 -1.319585   \n174557 -0.227615 -0.003945  0.972636 -0.548941 -1.383578 -0.090648  0.517222   \n120641 -0.684194  0.938692  0.416300 -0.058576 -0.641114  0.277031 -0.201467   \n...          ...       ...       ...       ...       ...       ...       ...   \n33867   0.141748 -0.249886 -0.090195 -0.306468  0.072227  0.665936  1.036084   \n84434   0.597445  0.157340 -1.014495 -0.407656 -0.454624  0.392683  0.886625   \n95816  -0.432034  0.758099  0.452072 -0.930030 -1.437812 -0.134925 -0.614330   \n203245  0.207339 -0.220928  0.423374  0.013327  0.694155  1.685742  0.978553   \n100879 -1.640693  0.275311  0.886617  0.300522 -1.092211 -0.681716 -1.347632   \n\n             V14       V15       V16       V17       V18       V19       V20  \\\n136700 -0.187471  1.087049 -0.444573 -0.284129 -0.166159  0.343466  0.017828   \n43219   0.217697 -0.001202  0.680765  0.715523 -1.358124  0.586411  1.473102   \n18819  -0.215458  0.424913 -1.335135  0.475083 -0.598703  0.755992  0.170019   \n174557 -1.330589  0.742572  1.140206 -0.026063  0.435850  0.127112  0.222229   \n120641 -0.005331 -0.242579 -0.049570 -0.504435  0.052184  0.337316 -0.048902   \n...          ...       ...       ...       ...       ...       ...       ...   \n33867  -0.448733  1.005042  0.440469 -0.051501 -0.398653 -0.203949 -0.028844   \n84434   0.408923  1.033171 -0.270605 -0.015873  0.026312  0.516262 -0.052241   \n95816  -0.100408  0.342841 -0.571876  0.799367 -0.446101  1.420343  0.117807   \n203245  0.260383 -0.852009 -0.204911 -0.667519 -0.197015  0.668118 -0.149817   \n100879 -1.114945 -1.253126  0.524809  1.085152 -1.310845  0.876017 -0.070721   \n\n             V21       V22       V23       V24       V25       V26       V27  \\\n136700  0.070241  0.369148 -0.063796  0.734099 -0.301282 -0.502040 -0.375145   \n43219   0.584560 -0.003808 -0.801507  0.453660  0.474506 -0.140280 -0.157441   \n18819  -0.145452  0.238458 -0.073162  0.066287 -0.156348 -0.283686 -0.021930   \n174557 -0.307981 -1.132447  0.184282 -0.424180 -0.503949  0.134031 -0.049449   \n120641 -0.137631 -0.289971 -0.132417  1.018395  0.862443 -0.282622  0.043088   \n...          ...       ...       ...       ...       ...       ...       ...   \n33867  -0.278275 -0.763534  0.119647  0.367553  0.243484  0.091687 -0.017777   \n84434   0.168755  0.318385 -0.346367  0.427942  0.537712 -0.221692 -0.309258   \n95816  -0.042553 -0.139181  0.160084 -0.409871 -0.655866  1.078683 -0.021430   \n203245 -0.199295 -0.377174  0.181837 -0.402258 -0.001667 -0.539438 -0.009090   \n100879  0.143809  0.718944 -0.032095  0.758703  0.393596 -0.061467  0.078662   \n\n             V28     Amount  \n136700 -0.081215  -0.028086  \n43219   0.130219  10.188220  \n18819  -0.245350  -0.018585  \n174557  0.006778   1.893523  \n120641  0.015524  -0.275274  \n...          ...        ...  \n33867   0.032565  -0.282401  \n84434   0.001913  -0.062880  \n95816   0.050234   0.747013  \n203245 -0.061492  -0.131070  \n100879  0.027284  -0.293440  \n\n[227845 rows x 30 columns]}.\nReshape your data either using array.reshape(-1, 1) if your data has a single feature or array.reshape(1, -1) if it contains a single sample.",
     "output_type": "error",
     "traceback": [
      "\u001b[1;31m---------------------------------------------------------------------------\u001b[0m",
      "\u001b[1;31mValueError\u001b[0m                                Traceback (most recent call last)",
      "\u001b[1;32m<ipython-input-26-4f005b094d2f>\u001b[0m in \u001b[0;36m<module>\u001b[1;34m\u001b[0m\n\u001b[0;32m     16\u001b[0m     \u001b[0mprint\u001b[0m\u001b[1;33m(\u001b[0m\u001b[1;34m'\\n정확도: {:.4f}, 정밀도: {:.4f}, 재현율: {:.4f}, fl 스코어: {:.4f}, roc_auc : {:.4f}'\u001b[0m\u001b[1;33m.\u001b[0m\u001b[0mformat\u001b[0m\u001b[1;33m(\u001b[0m\u001b[0maccuracy\u001b[0m\u001b[1;33m,\u001b[0m \u001b[0mprecision\u001b[0m\u001b[1;33m,\u001b[0m \u001b[0mrecall\u001b[0m\u001b[1;33m,\u001b[0m \u001b[0mf1\u001b[0m\u001b[1;33m,\u001b[0m \u001b[0mroc_auc\u001b[0m\u001b[1;33m)\u001b[0m\u001b[1;33m)\u001b[0m\u001b[1;33m\u001b[0m\u001b[1;33m\u001b[0m\u001b[0m\n\u001b[0;32m     17\u001b[0m \u001b[1;33m\u001b[0m\u001b[0m\n\u001b[1;32m---> 18\u001b[1;33m \u001b[0mpred\u001b[0m \u001b[1;33m=\u001b[0m \u001b[0mclf\u001b[0m\u001b[1;33m.\u001b[0m\u001b[0mpredict\u001b[0m\u001b[1;33m(\u001b[0m\u001b[0mX_test\u001b[0m\u001b[1;33m)\u001b[0m\u001b[1;33m\u001b[0m\u001b[1;33m\u001b[0m\u001b[0m\n\u001b[0m\u001b[0;32m     19\u001b[0m \u001b[0mprint\u001b[0m\u001b[1;33m(\u001b[0m\u001b[0mevaluate\u001b[0m\u001b[1;33m(\u001b[0m\u001b[0my_test\u001b[0m\u001b[1;33m,\u001b[0m\u001b[0mpred\u001b[0m\u001b[1;33m)\u001b[0m\u001b[1;33m)\u001b[0m\u001b[1;33m\u001b[0m\u001b[1;33m\u001b[0m\u001b[0m\n",
      "\u001b[1;32m~\\AppData\\Roaming\\Python\\Python37\\site-packages\\sklearn\\neighbors\\_classification.py\u001b[0m in \u001b[0;36mpredict\u001b[1;34m(self, X)\u001b[0m\n\u001b[0;32m    193\u001b[0m             \u001b[0mClass\u001b[0m \u001b[0mlabels\u001b[0m \u001b[1;32mfor\u001b[0m \u001b[0meach\u001b[0m \u001b[0mdata\u001b[0m \u001b[0msample\u001b[0m\u001b[1;33m.\u001b[0m\u001b[1;33m\u001b[0m\u001b[1;33m\u001b[0m\u001b[0m\n\u001b[0;32m    194\u001b[0m         \"\"\"\n\u001b[1;32m--> 195\u001b[1;33m         \u001b[0mX\u001b[0m \u001b[1;33m=\u001b[0m \u001b[0mcheck_array\u001b[0m\u001b[1;33m(\u001b[0m\u001b[0mX\u001b[0m\u001b[1;33m,\u001b[0m \u001b[0maccept_sparse\u001b[0m\u001b[1;33m=\u001b[0m\u001b[1;34m'csr'\u001b[0m\u001b[1;33m)\u001b[0m\u001b[1;33m\u001b[0m\u001b[1;33m\u001b[0m\u001b[0m\n\u001b[0m\u001b[0;32m    196\u001b[0m \u001b[1;33m\u001b[0m\u001b[0m\n\u001b[0;32m    197\u001b[0m         \u001b[0mneigh_dist\u001b[0m\u001b[1;33m,\u001b[0m \u001b[0mneigh_ind\u001b[0m \u001b[1;33m=\u001b[0m \u001b[0mself\u001b[0m\u001b[1;33m.\u001b[0m\u001b[0mkneighbors\u001b[0m\u001b[1;33m(\u001b[0m\u001b[0mX\u001b[0m\u001b[1;33m)\u001b[0m\u001b[1;33m\u001b[0m\u001b[1;33m\u001b[0m\u001b[0m\n",
      "\u001b[1;32m~\\AppData\\Roaming\\Python\\Python37\\site-packages\\sklearn\\utils\\validation.py\u001b[0m in \u001b[0;36minner_f\u001b[1;34m(*args, **kwargs)\u001b[0m\n\u001b[0;32m     61\u001b[0m             \u001b[0mextra_args\u001b[0m \u001b[1;33m=\u001b[0m \u001b[0mlen\u001b[0m\u001b[1;33m(\u001b[0m\u001b[0margs\u001b[0m\u001b[1;33m)\u001b[0m \u001b[1;33m-\u001b[0m \u001b[0mlen\u001b[0m\u001b[1;33m(\u001b[0m\u001b[0mall_args\u001b[0m\u001b[1;33m)\u001b[0m\u001b[1;33m\u001b[0m\u001b[1;33m\u001b[0m\u001b[0m\n\u001b[0;32m     62\u001b[0m             \u001b[1;32mif\u001b[0m \u001b[0mextra_args\u001b[0m \u001b[1;33m<=\u001b[0m \u001b[1;36m0\u001b[0m\u001b[1;33m:\u001b[0m\u001b[1;33m\u001b[0m\u001b[1;33m\u001b[0m\u001b[0m\n\u001b[1;32m---> 63\u001b[1;33m                 \u001b[1;32mreturn\u001b[0m \u001b[0mf\u001b[0m\u001b[1;33m(\u001b[0m\u001b[1;33m*\u001b[0m\u001b[0margs\u001b[0m\u001b[1;33m,\u001b[0m \u001b[1;33m**\u001b[0m\u001b[0mkwargs\u001b[0m\u001b[1;33m)\u001b[0m\u001b[1;33m\u001b[0m\u001b[1;33m\u001b[0m\u001b[0m\n\u001b[0m\u001b[0;32m     64\u001b[0m \u001b[1;33m\u001b[0m\u001b[0m\n\u001b[0;32m     65\u001b[0m             \u001b[1;31m# extra_args > 0\u001b[0m\u001b[1;33m\u001b[0m\u001b[1;33m\u001b[0m\u001b[1;33m\u001b[0m\u001b[0m\n",
      "\u001b[1;32m~\\AppData\\Roaming\\Python\\Python37\\site-packages\\sklearn\\utils\\validation.py\u001b[0m in \u001b[0;36mcheck_array\u001b[1;34m(array, accept_sparse, accept_large_sparse, dtype, order, copy, force_all_finite, ensure_2d, allow_nd, ensure_min_samples, ensure_min_features, estimator)\u001b[0m\n\u001b[0;32m    632\u001b[0m                     \u001b[1;34m\"Reshape your data either using array.reshape(-1, 1) if \"\u001b[0m\u001b[1;33m\u001b[0m\u001b[1;33m\u001b[0m\u001b[0m\n\u001b[0;32m    633\u001b[0m                     \u001b[1;34m\"your data has a single feature or array.reshape(1, -1) \"\u001b[0m\u001b[1;33m\u001b[0m\u001b[1;33m\u001b[0m\u001b[0m\n\u001b[1;32m--> 634\u001b[1;33m                     \"if it contains a single sample.\".format(array))\n\u001b[0m\u001b[0;32m    635\u001b[0m             \u001b[1;31m# If input is 1D raise error\u001b[0m\u001b[1;33m\u001b[0m\u001b[1;33m\u001b[0m\u001b[1;33m\u001b[0m\u001b[0m\n\u001b[0;32m    636\u001b[0m             \u001b[1;32mif\u001b[0m \u001b[0marray\u001b[0m\u001b[1;33m.\u001b[0m\u001b[0mndim\u001b[0m \u001b[1;33m==\u001b[0m \u001b[1;36m1\u001b[0m\u001b[1;33m:\u001b[0m\u001b[1;33m\u001b[0m\u001b[1;33m\u001b[0m\u001b[0m\n",
      "\u001b[1;31mValueError\u001b[0m: Expected 2D array, got scalar array instead:\narray={'Raw':             Time        V1        V2        V3        V4        V5        V6  \\\n136700 -0.033659 -0.626902  1.172790  1.750623  0.868050  0.015424 -0.771009   \n43219  -0.508371 -0.006068 -2.885932 -0.764538  0.091419 -1.687394 -0.859819   \n18819  -0.644979 -0.531514  0.611990  1.677510  1.281703  0.468128  0.025695   \n174557  0.437916  1.789550 -0.556617 -1.534874  0.343963  0.202157  0.118209   \n120641 -0.103244  1.254183 -0.106286 -0.882852  0.308304  1.985428  3.808663   \n...          ...       ...       ...       ...       ...       ...       ...   \n33867  -0.555411  1.256867  0.413152  0.322996  0.685660 -0.299566 -1.054102   \n84434  -0.286528 -1.093034  1.621979  1.334661  0.818556 -0.181152 -0.660391   \n95816  -0.225708 -0.799005  0.205982  1.512178  0.128515 -0.861328  0.635684   \n203245  0.587895  2.012512 -0.055116 -1.245330  0.272995  0.230934 -0.609708   \n100879 -0.200167  1.292856 -1.112757  1.761397 -0.087415 -2.243419 -0.096352   \n\n              V7        V8        V9       V10       V11       V12       V13  \\\n136700  1.017371 -0.533478 -0.424700  0.243931  0.065733  0.343858  0.827615   \n43219   0.624534 -0.416351 -0.654780  0.274192 -0.695532 -1.127895 -1.119963   \n18819   0.900121 -0.306788  0.252843  0.471176 -0.622090 -0.620314 -1.319585   \n174557 -0.227615 -0.003945  0.972636 -0.548941 -1.383578 -0.090648  0.517222   \n120641 -0.684194  0.938692  0.416300 -0.058576 -0.641114  0.277031 -0.201467   \n...          ...       ...       ...       ...       ...       ...       ...   \n33867   0.141748 -0.249886 -0.090195 -0.306468  0.072227  0.665936  1.036084   \n84434   0.597445  0.157340 -1.014495 -0.407656 -0.454624  0.392683  0.886625   \n95816  -0.432034  0.758099  0.452072 -0.930030 -1.437812 -0.134925 -0.614330   \n203245  0.207339 -0.220928  0.423374  0.013327  0.694155  1.685742  0.978553   \n100879 -1.640693  0.275311  0.886617  0.300522 -1.092211 -0.681716 -1.347632   \n\n             V14       V15       V16       V17       V18       V19       V20  \\\n136700 -0.187471  1.087049 -0.444573 -0.284129 -0.166159  0.343466  0.017828   \n43219   0.217697 -0.001202  0.680765  0.715523 -1.358124  0.586411  1.473102   \n18819  -0.215458  0.424913 -1.335135  0.475083 -0.598703  0.755992  0.170019   \n174557 -1.330589  0.742572  1.140206 -0.026063  0.435850  0.127112  0.222229   \n120641 -0.005331 -0.242579 -0.049570 -0.504435  0.052184  0.337316 -0.048902   \n...          ...       ...       ...       ...       ...       ...       ...   \n33867  -0.448733  1.005042  0.440469 -0.051501 -0.398653 -0.203949 -0.028844   \n84434   0.408923  1.033171 -0.270605 -0.015873  0.026312  0.516262 -0.052241   \n95816  -0.100408  0.342841 -0.571876  0.799367 -0.446101  1.420343  0.117807   \n203245  0.260383 -0.852009 -0.204911 -0.667519 -0.197015  0.668118 -0.149817   \n100879 -1.114945 -1.253126  0.524809  1.085152 -1.310845  0.876017 -0.070721   \n\n             V21       V22       V23       V24       V25       V26       V27  \\\n136700  0.070241  0.369148 -0.063796  0.734099 -0.301282 -0.502040 -0.375145   \n43219   0.584560 -0.003808 -0.801507  0.453660  0.474506 -0.140280 -0.157441   \n18819  -0.145452  0.238458 -0.073162  0.066287 -0.156348 -0.283686 -0.021930   \n174557 -0.307981 -1.132447  0.184282 -0.424180 -0.503949  0.134031 -0.049449   \n120641 -0.137631 -0.289971 -0.132417  1.018395  0.862443 -0.282622  0.043088   \n...          ...       ...       ...       ...       ...       ...       ...   \n33867  -0.278275 -0.763534  0.119647  0.367553  0.243484  0.091687 -0.017777   \n84434   0.168755  0.318385 -0.346367  0.427942  0.537712 -0.221692 -0.309258   \n95816  -0.042553 -0.139181  0.160084 -0.409871 -0.655866  1.078683 -0.021430   \n203245 -0.199295 -0.377174  0.181837 -0.402258 -0.001667 -0.539438 -0.009090   \n100879  0.143809  0.718944 -0.032095  0.758703  0.393596 -0.061467  0.078662   \n\n             V28     Amount  \n136700 -0.081215  -0.028086  \n43219   0.130219  10.188220  \n18819  -0.245350  -0.018585  \n174557  0.006778   1.893523  \n120641  0.015524  -0.275274  \n...          ...        ...  \n33867   0.032565  -0.282401  \n84434   0.001913  -0.062880  \n95816   0.050234   0.747013  \n203245 -0.061492  -0.131070  \n100879  0.027284  -0.293440  \n\n[227845 rows x 30 columns]}.\nReshape your data either using array.reshape(-1, 1) if your data has a single feature or array.reshape(1, -1) if it contains a single sample."
     ]
    }
   ],
   "source": [
    "#프로모션 평가 코드\n",
    "from sklearn.metrics import accuracy_score,precision_score, recall_score, f1_score\n",
    "from sklearn.metrics import confusion_matrix\n",
    "\n",
    "def evaluate(test, pred):\n",
    "\n",
    "    confusion_mtx = confusion_matrix(test, pred)\n",
    "    accuracy = accuracy_score(test, pred)\n",
    "    precision = precision_score(test, pred)\n",
    "    recall = recall_score(test, pred)\n",
    "    f1 = f1_score(test, pred)\n",
    "    roc_auc = roc_auc_score(y_test, y_proba[:, 1])\n",
    "\n",
    "    \n",
    "    print('오차 행렬',confusion_mtx)\n",
    "    print('\\n정확도: {:.4f}, 정밀도: {:.4f}, 재현율: {:.4f}, fl 스코어: {:.4f}, roc_auc : {:.4f}'.format(accuracy, precision, recall, f1, roc_auc))\n",
    "    \n",
    "pred = clf.predict(X_test)\n",
    "print(evaluate(y_test,pred))"
   ]
  },
  {
   "cell_type": "code",
   "execution_count": null,
   "metadata": {},
   "outputs": [],
   "source": [
    "train_acc_list=[]\n",
    "test_acc_list=[]\n",
    "\n",
    "train_pred = knn.predict(x_train)\n",
    "train_acc = (train_pred == y_train).mean()\n",
    "train_acc_list.append(train_acc)\n",
    "\n",
    "test_pred = knn.predict(x_test)\n",
    "test_acc = (test_pred == y_test).mean()\n",
    "test_acc_list.append(test_acc)\n",
    "\n",
    "print(train_acc)\n",
    "print(test_acc)"
   ]
  },
  {
   "cell_type": "code",
   "execution_count": null,
   "metadata": {},
   "outputs": [],
   "source": [
    "iter_range=np.linspace(1,50)\n",
    "plt.plot(iter_range,train_acc_list,label='train_data')\n",
    "plt.plot(iter_range,test_acc_list,label='test_data')\n",
    "plt.xlabel(\"num of neighbors\")\n",
    "plt.ylabel(\"accuracy\")\n",
    "plt.legend(loc=\"upper right\")\n",
    "plt.show"
   ]
  },
  {
   "cell_type": "code",
   "execution_count": null,
   "metadata": {},
   "outputs": [],
   "source": [
    "np.linspace(1,5)"
   ]
  },
  {
   "cell_type": "code",
   "execution_count": null,
   "metadata": {},
   "outputs": [],
   "source": [
    "from sklearn.metrics import confusion_matrix, accuracy_score, precision_score, recall_score, f1_score\n",
    "\n",
    "def evaluate(test, pred):\n",
    "\n",
    "    confusion_mtx = confusion_matrix(test, pred)\n",
    "    accuracy = accuracy_score(test, pred)\n",
    "    precision = precision_score(test, pred)\n",
    "    recall = recall_score(test, pred)\n",
    "    f1 = f1_score(test, pred)\n",
    "    \n",
    "    print('오차 행렬',confusion_mtx)\n",
    "    print('\\n정확도: {:.4f}, 정밀도: {:.4f}, 재현율: {:.4f}, fl 스코어: {:.4f}'.format(accuracy, precision, recall, f1))\n",
    "    \n",
    "print(evaluate(y_test,pred))"
   ]
  },
  {
   "cell_type": "code",
   "execution_count": null,
   "metadata": {},
   "outputs": [],
   "source": [
    "#F Beta Score"
   ]
  }
 ],
 "metadata": {
  "kernelspec": {
   "display_name": "Python 3",
   "language": "python",
   "name": "python3"
  },
  "language_info": {
   "codemirror_mode": {
    "name": "ipython",
    "version": 3
   },
   "file_extension": ".py",
   "mimetype": "text/x-python",
   "name": "python",
   "nbconvert_exporter": "python",
   "pygments_lexer": "ipython3",
   "version": "3.7.7"
  }
 },
 "nbformat": 4,
 "nbformat_minor": 4
}
