{
 "cells": [
  {
   "cell_type": "code",
   "execution_count": 1,
   "metadata": {},
   "outputs": [],
   "source": [
    "import pandas as pd\n",
    "import numpy as np\n",
    "from matplotlib import pyplot as plt\n",
    "from sklearn.neighbors import KNeighborsClassifier\n",
    "from sklearn.metrics import *\n",
    "import pickle"
   ]
  },
  {
   "cell_type": "code",
   "execution_count": 2,
   "metadata": {},
   "outputs": [],
   "source": [
    "pd.set_option(\"display.max_columns\", None)"
   ]
  },
  {
   "cell_type": "code",
   "execution_count": 3,
   "metadata": {},
   "outputs": [
    {
     "name": "stdout",
     "output_type": "stream",
     "text": [
      "absl-py @ file:///tmp/build/80754af9/absl-py_1607439979954/work\n",
      "astor==0.8.1\n",
      "async-generator==1.10\n",
      "attrs @ file:///tmp/build/80754af9/attrs_1604765588209/work\n",
      "backcall==0.2.0\n",
      "beautifulsoup4==4.6.0\n",
      "bleach @ file:///tmp/build/80754af9/bleach_1600439572647/work\n",
      "brotlipy==0.7.0\n",
      "catboost==0.24.4\n",
      "certifi==2020.12.5\n",
      "cffi @ file:///C:/ci/cffi_1606255207413/work\n",
      "chardet==4.0.0\n",
      "colorama @ file:///tmp/build/80754af9/colorama_1607707115595/work\n",
      "coverage @ file:///C:/ci/coverage_1611690883449/work\n",
      "cryptography @ file:///C:/ci/cryptography_1607639129468/work\n",
      "cycler==0.10.0\n",
      "Cython @ file:///C:/ci/cython_1614015037049/work\n",
      "decorator==4.4.2\n",
      "defusedxml==0.6.0\n",
      "entrypoints==0.3\n",
      "et-xmlfile==1.0.1\n",
      "gast==0.2.2\n",
      "gensim==3.8.3\n",
      "google-pasta==0.2.0\n",
      "graphviz==0.16\n",
      "grpcio @ file:///C:/ci/grpcio_1613730177942/work\n",
      "h5py==2.10.0\n",
      "html5lib @ file:///tmp/build/80754af9/html5lib_1593446221756/work\n",
      "idna @ file:///tmp/build/80754af9/idna_1609784788857/work\n",
      "imbalanced-learn==0.8.0\n",
      "imblearn==0.0\n",
      "importlib-metadata @ file:///tmp/build/80754af9/importlib-metadata_1602276842396/work\n",
      "ipykernel @ file:///C:/ci/ipykernel_1596208728219/work/dist/ipykernel-5.3.4-py3-none-any.whl\n",
      "ipynb-py-convert==0.4.6\n",
      "ipython @ file:///C:/ci/ipython_1604101327119/work\n",
      "ipython-genutils @ file:///tmp/build/80754af9/ipython_genutils_1606773439826/work\n",
      "ipywidgets @ file:///tmp/build/80754af9/ipywidgets_1610130804411/work\n",
      "jdcal==1.4.1\n",
      "jedi @ file:///C:/ci/jedi_1606932641827/work\n",
      "Jinja2==2.11.2\n",
      "joblib @ file:///tmp/build/80754af9/joblib_1607970656719/work\n",
      "JPype1 @ file:///D:/JPype1-1.2.0-cp37-cp37m-win_amd64.whl\n",
      "jsonschema @ file:///tmp/build/80754af9/jsonschema_1602607155483/work\n",
      "jupyter==1.0.0\n",
      "jupyter-client @ file:///tmp/build/80754af9/jupyter_client_1601311786391/work\n",
      "jupyter-console @ file:///tmp/build/80754af9/jupyter_console_1598884538475/work\n",
      "jupyter-core @ file:///C:/ci/jupyter_core_1606130908768/work\n",
      "jupyterlab-pygments @ file:///tmp/build/80754af9/jupyterlab_pygments_1601490720602/work\n",
      "jupyterlab-widgets @ file:///tmp/build/80754af9/jupyterlab_widgets_1609884341231/workNote: you may need to restart the kernel to use updated packages.\n",
      "\n",
      "jupyterthemes==0.20.0\n",
      "Keras-Applications @ file:///tmp/build/80754af9/keras-applications_1594366238411/work\n",
      "Keras-Preprocessing @ file:///tmp/build/80754af9/keras-preprocessing_1612283640596/work\n",
      "kiwisolver @ file:///C:/ci/kiwisolver_1603996595157/work\n",
      "konlpy==0.5.2\n",
      "lesscpy==0.14.0\n",
      "lightgbm==3.1.1\n",
      "lxml==4.6.2\n",
      "Markdown @ file:///C:/ci/markdown_1605111187600/work\n",
      "MarkupSafe @ file:///C:/ci/markupsafe_1594405949945/work\n",
      "matplotlib @ file:///C:/ci/matplotlib-base_1603356257853/work\n",
      "mistune @ file:///C:/ci/mistune_1594373272338/work\n",
      "mkl-fft==1.0.12\n",
      "mkl-random==1.1.1\n",
      "mkl-service==2.3.0\n",
      "nbclient @ file:///tmp/build/80754af9/nbclient_1602783176460/work\n",
      "nbconvert @ file:///C:/ci/nbconvert_1601914921407/work\n",
      "nbformat @ file:///tmp/build/80754af9/nbformat_1602783287752/work\n",
      "nest-asyncio @ file:///tmp/build/80754af9/nest-asyncio_1606153767164/work\n",
      "notebook==6.0.3\n",
      "numpy==1.19.5\n",
      "oauthlib==3.1.0\n",
      "olefile==0.46\n",
      "openpyxl @ file:///tmp/build/80754af9/openpyxl_1610651698508/work\n",
      "opt-einsum==3.1.0\n",
      "packaging @ file:///tmp/build/80754af9/packaging_1607971725249/work\n",
      "pandas @ file:///C:/ci/pandas_1608056608430/work\n",
      "pandocfilters @ file:///C:/ci/pandocfilters_1605102427207/work\n",
      "parso==0.7.0\n",
      "patsy==0.5.1\n",
      "pickleshare @ file:///tmp/build/80754af9/pickleshare_1606932040724/work\n",
      "Pillow @ file:///C:/ci/pillow_1609786872067/work\n",
      "plotly==4.14.3\n",
      "ply==3.11\n",
      "prometheus-client @ file:///tmp/build/80754af9/prometheus_client_1606344362066/work\n",
      "prompt-toolkit @ file:///tmp/build/80754af9/prompt-toolkit_1602688806899/work\n",
      "protobuf==3.14.0\n",
      "pycparser @ file:///tmp/build/80754af9/pycparser_1594388511720/work\n",
      "Pygments @ file:///tmp/build/80754af9/pygments_1607368905949/work\n",
      "pyOpenSSL @ file:///tmp/build/80754af9/pyopenssl_1608057966937/work\n",
      "pyparsing==2.4.7\n",
      "pyreadline==2.1\n",
      "pyrsistent @ file:///C:/ci/pyrsistent_1600123688363/work\n",
      "PySocks @ file:///C:/ci/pysocks_1594394709107/work\n",
      "python-dateutil==2.8.1\n",
      "pytz @ file:///tmp/build/80754af9/pytz_1608922264688/work\n",
      "pywin32==227\n",
      "pywinpty==0.5.7\n",
      "pyzmq==20.0.0\n",
      "qtconsole @ file:///tmp/build/80754af9/qtconsole_1600870028330/work\n",
      "QtPy==1.9.0\n",
      "requests==2.25.1\n",
      "requests-oauthlib==1.3.0\n",
      "retrying==1.3.3\n",
      "scikit-learn==0.24.0\n",
      "scipy==1.2.1\n",
      "seaborn==0.9.0\n",
      "selenium @ file:///C:/ci/selenium_1594408106746/work\n",
      "Send2Trash @ file:///tmp/build/80754af9/send2trash_1607525499227/work\n",
      "six @ file:///C:/ci/six_1605205426665/work\n",
      "sklearn==0.0\n",
      "smart-open==4.1.2\n",
      "statsmodels==0.11.1\n",
      "tensorboard==2.0.0\n",
      "tensorflow==2.0.0\n",
      "tensorflow-estimator==2.0.0\n",
      "termcolor==1.1.0\n",
      "terminado==0.9.2\n",
      "testpath==0.4.4\n",
      "threadpoolctl @ file:///tmp/tmp9twdgx9k/threadpoolctl-2.1.0-py3-none-any.whl\n",
      "tornado @ file:///C:/ci/tornado_1606935947090/work\n",
      "traitlets @ file:///tmp/build/80754af9/traitlets_1602787416690/work\n",
      "tweepy==3.10.0\n",
      "typing-extensions==3.7.4.3\n",
      "urllib3 @ file:///tmp/build/80754af9/urllib3_1606938623459/work\n",
      "wcwidth @ file:///tmp/build/80754af9/wcwidth_1593447189090/work\n",
      "webencodings==0.5.1\n",
      "Werkzeug==0.16.1\n",
      "widgetsnbextension==3.5.1\n",
      "win-inet-pton @ file:///C:/ci/win_inet_pton_1605306165655/work\n",
      "wincertstore==0.2\n",
      "wordcloud==1.8.1\n",
      "wrapt==1.12.1\n",
      "xgboost==0.90\n",
      "xlrd @ file:///tmp/build/80754af9/xlrd_1608072521494/work\n",
      "zipp @ file:///tmp/build/80754af9/zipp_1604001098328/work\n"
     ]
    }
   ],
   "source": [
    "pip freeze"
   ]
  },
  {
   "cell_type": "code",
   "execution_count": 4,
   "metadata": {},
   "outputs": [
    {
     "name": "stdout",
     "output_type": "stream",
     "text": [
      "4.0\n"
     ]
    }
   ],
   "source": [
    "print(pickle.format_version)"
   ]
  },
  {
   "cell_type": "markdown",
   "metadata": {},
   "source": [
    "# 데이터"
   ]
  },
  {
   "cell_type": "code",
   "execution_count": 4,
   "metadata": {},
   "outputs": [],
   "source": [
    "with open('./datasets/X_samples.pickle', 'rb') as f:\n",
    "    y_samples = pickle.load(f)\n",
    "    \n",
    "with open(f\"./datasets/y_samples.pickle\", \"rb\") as f:\n",
    "    y_samples = pickle.load(f)\n",
    "    \n",
    "with open(f\"./datasets/X_test.pickle\", \"rb\") as f:\n",
    "    X_test = pickle.load(f)\n",
    "    \n",
    "with open(f\"./datasets/y_test.pickle\", \"rb\") as f:\n",
    "    y_test = pickle.load(f)"
   ]
  },
  {
   "cell_type": "code",
   "execution_count": null,
   "metadata": {
    "scrolled": true
   },
   "outputs": [],
   "source": [
    "# # samples는 dict,test는 df \n",
    "# print(X_test.head)\n",
    "# print(y_test.head)\n",
    "# print('X_samples key : ' , X_samples.keys()) \n",
    "# print('y_samples key : ' , y_samples.keys())\n",
    "# # print(X_test.head())\n",
    "# # print(y_test)\n",
    "# # print(type(y_test))"
   ]
  },
  {
   "cell_type": "code",
   "execution_count": null,
   "metadata": {},
   "outputs": [],
   "source": [
    "data_list = ['Raw', 'SMOTE', 'ADASYN', 'CNN', 'SMOTE + ENN', 'ADASYN + ENN']\n",
    "cols = ['Accuracy', 'Precision', 'Recall', 'F1-Score', 'ROC_AUC']"
   ]
  },
  {
   "cell_type": "markdown",
   "metadata": {},
   "source": [
    "# KNN"
   ]
  },
  {
   "cell_type": "markdown",
   "metadata": {},
   "source": [
    "각 분류 모델의 성능을 평가(model selection) 방법\n",
    "1. Accuracy\n",
    "2. Confusion matrix\n",
    "3. Precision, Recall and F-measure(f1score, f-beta-score) \n",
    "4. Receiver operating characteristic (AUC-ROC)"
   ]
  },
  {
   "cell_type": "code",
   "execution_count": null,
   "metadata": {},
   "outputs": [],
   "source": [
    "from sklearn.neighbors import KNeighborsClassifier\n",
    "\n",
    "clf = KNeighborsClassifier(n_neighbors = 5)\n",
    "\n",
    "data_dict = {}\n",
    "for i in data_list:\n",
    "    print(i)\n",
    "    clf.fit(X_samples.get(i), y_samples.get(i))\n",
    "    \n",
    "#     y_pred = clf.predict(X_test)\n",
    "#     y_proba = clf.predict_proba(X_test)\n",
    "    \n",
    "# print(\"classifier created\")\n",
    "\n"
   ]
  },
  {
   "cell_type": "code",
   "execution_count": null,
   "metadata": {},
   "outputs": [],
   "source": [
    "#프로모션 평가 코드\n",
    "from sklearn.metrics import accuracy_score,precision_score, recall_score, f1_score\n",
    "from sklearn.metrics import confusion_matrix\n",
    "\n",
    "def evaluate(test, pred):\n",
    "\n",
    "    confusion_mtx = confusion_matrix(test, pred)\n",
    "    accuracy = accuracy_score(test, pred)\n",
    "    precision = precision_score(test, pred)\n",
    "    recall = recall_score(test, pred)\n",
    "    f1 = f1_score(test, pred)\n",
    "    roc_auc = roc_auc_score(y_test, y_proba[:, 1])\n",
    "\n",
    "    \n",
    "    print('오차 행렬',confusion_mtx)\n",
    "    print('\\n정확도: {:.4f}, 정밀도: {:.4f}, 재현율: {:.4f}, fl 스코어: {:.4f}'.format(accuracy, precision, recall, f1))\n",
    "    \n",
    "pred = clf.predict(X_test)\n",
    "print(evaluate(y_test,pred))"
   ]
  },
  {
   "cell_type": "markdown",
   "metadata": {},
   "source": [
    "# 내가 해본거"
   ]
  },
  {
   "cell_type": "code",
   "execution_count": null,
   "metadata": {},
   "outputs": [],
   "source": [
    "for key, sampler in X_samples.items():\n",
    "    y = y_samples[key]\n",
    "    total = len(y)\n",
    "    \n"
   ]
  },
  {
   "cell_type": "markdown",
   "metadata": {},
   "source": [
    "# 인도아저씨"
   ]
  },
  {
   "cell_type": "code",
   "execution_count": null,
   "metadata": {},
   "outputs": [],
   "source": [
    "model_name = []\n",
    "resample = []\n",
    "precision = []\n",
    "recall = []\n",
    "F1score = []\n",
    "AUCROC = []"
   ]
  },
  {
   "cell_type": "code",
   "execution_count": null,
   "metadata": {},
   "outputs": [],
   "source": [
    "def test_eval(clf_model, X_test, y_test, algo=None, sampling=None):\n",
    "    # Test set prediction\n",
    "    y_prob=clf_model.predict_proba(X_test)\n",
    "    y_pred=clf_model.predict(X_test)\n",
    "\n",
    "    print('Confusion Matrix')\n",
    "    print('='*60)\n",
    "    print(confusion_matrix(y_test,y_pred),\"\\n\")\n",
    "    print('Classification Report')\n",
    "    print('='*60)\n",
    "    print(classification_report(y_test,y_pred),\"\\n\")\n",
    "    print('AUC-ROC')\n",
    "    print('='*60)\n",
    "    print(roc_auc_score(y_test, y_prob[:,1]))\n",
    "          \n",
    "    model_name.append(algo)\n",
    "    precision.append(precision_score(y_test,y_pred))\n",
    "    recall.append(recall_score(y_test,y_pred))\n",
    "    F1score.append(f1_score(y_test,y_pred))\n",
    "    AUCROC.append(roc_auc_score(y_test, y_prob[:,1]))\n",
    "    resample.append(sampling)"
   ]
  },
  {
   "cell_type": "code",
   "execution_count": null,
   "metadata": {},
   "outputs": [],
   "source": [
    "# #Comparison of classifiers with imbalanced data\n",
    "# classifiers = {\"KNN\" : CatBoostClassifier(verbose=False),\n",
    "#               \"LGBM\" : LGBMClassifier()}\n",
    "# for classifier in classifiers:\n",
    "#     model = classifiers[classifier]\n",
    "#     model.fit(x_train, y_train)\n",
    "#     print('='*60)\n",
    "#     print (classifier, \"imbalanced\")\n",
    "#     print('='*60)\n",
    "#     test_eval(model, x_test, y_test, classifier, \"imbalanced\")"
   ]
  },
  {
   "cell_type": "code",
   "execution_count": null,
   "metadata": {},
   "outputs": [],
   "source": [
    "# #Comparison of classifiers with class weighted model\n",
    "# classifiers = {\"CatBoost\" : CatBoostClassifier(verbose=False, auto_class_weights=\"Balanced\"),\n",
    "#               \"LGBM\" : LGBMClassifier(is_unbalance=True)}\n",
    "# for classifier in classifiers:\n",
    "#     model = classifiers[classifier]\n",
    "#     model.fit(x_train, y_train)\n",
    "#     print('='*60)\n",
    "#     print (classifier, \"class_balance\")\n",
    "#     print('='*60)\n",
    "#     test_eval(model, x_test, y_test, classifier, \"class_balance\")\n"
   ]
  },
  {
   "cell_type": "code",
   "execution_count": null,
   "metadata": {},
   "outputs": [],
   "source": [
    "# sampling_methods = {\"SMOTE\" : SMOTE(),\n",
    "#                     \"SMOTEENN\" : SMOTEENN()\n",
    "#                    }\n",
    "# for sampling_method in sampling_methods:\n",
    "#     method = sampling_methods[sampling_method]\n",
    "#     x_res, y_res = method.fit_resample(x_train, y_train)\n",
    "#     for classifier in classifiers:           \n",
    "#         model = classifiers[classifier]\n",
    "#         model.fit(x_res, y_res)\n",
    "#         print('='*60)\n",
    "#         print (classifier, samplinga_method)\n",
    "#         print('='*60)\n",
    "#         test_eval(model, x_test, y_test, classifier, sampling_method)"
   ]
  },
  {
   "cell_type": "code",
   "execution_count": null,
   "metadata": {},
   "outputs": [],
   "source": [
    "clf_eval_df = pd.DataFrame({'model':model_name,\n",
    "                            'resample':resample,\n",
    "                            'precision':precision,\n",
    "                            'recall':recall,\n",
    "                            'f1-score':F1score,\n",
    "                            'AUC-ROC':AUCROC})\n",
    "clf_eval_df"
   ]
  },
  {
   "cell_type": "code",
   "execution_count": null,
   "metadata": {},
   "outputs": [],
   "source": [
    "sns.set(font_scale=1.2)\n",
    "#sns.palplot(sns.color_palette())\n",
    "g = sns.FacetGrid(clf_eval_df, col=\"model\", height=5)\n",
    "g.map(sns.barplot, \"resample\", \"recall\", palette='twilight', order=[\"imbalanced\", \"class_balance\", \"SMOTE\", \"SMOTEENN\"])\n",
    "g.set_xticklabels(rotation=30)\n",
    "g.set_xlabels(' ', fontsize=14)\n",
    "g.set_ylabels('Recall', fontsize=14)"
   ]
  },
  {
   "cell_type": "markdown",
   "metadata": {},
   "source": [
    "# 현주님"
   ]
  },
  {
   "cell_type": "code",
   "execution_count": null,
   "metadata": {},
   "outputs": [],
   "source": [
    "for key, sample in X_samples.items(): #y_samples 해도 상관x\n",
    "    y = y_samples[key]\n",
    "    total = len(y)\n",
    "    counts = y.value_counts()\n",
    "    \n",
    "    print('=' * 100)\n",
    "    print(key)\n",
    "    print('=' * 100)\n",
    "    print(sample.head())\n",
    "    print('-' * 100)\n",
    "    print(counts)\n",
    "    print('-' * 30)\n",
    "    print(f\"Total : {total}\")\n",
    "    for idx in counts.index:\n",
    "        print(f\"{idx} 비율 : {counts[idx] / total * 100:6.2f} %\")\n",
    "    print('=' * 100)"
   ]
  },
  {
   "cell_type": "code",
   "execution_count": null,
   "metadata": {},
   "outputs": [],
   "source": [
    "def show_data_info(y):\n",
    "    total = len(y)\n",
    "    counts = y.value_counts()\n",
    "    print('=' * 80)\n",
    "    print(counts)\n",
    "    print('-' * 30)\n",
    "    for idx in counts.index:\n",
    "        print(f\"{idx} 비율 : {counts[idx] / total * 100:6.2f} %\")\n",
    "    print('=' * 80)\n",
    "\n",
    "def evaluate_model(clf, x_test, y_test):\n",
    "    y_proba = clf.predict_proba(x_test)\n",
    "    y_pred = clf.predict(x_test)\n",
    "    \n",
    "    accuracy = accuracy_score(y_test, y_pred)\n",
    "    precision = precision_score(y_test, y_pred)\n",
    "    recall = recall_score(y_test, y_pred)\n",
    "    fl = f1_score(y_test, y_pred)\n",
    "    roc_auc = roc_auc_score(y_test, y_proba[:, 1])\n",
    "    \n",
    "    print('=' * 80)\n",
    "    print('Confusion Matrix')\n",
    "    print(confusion_matrix(y_test, y_pred))\n",
    "    print('-' * 60)\n",
    "    print(f'Accuracy  : {accuracy}')\n",
    "    print(f'Precision : {precision}')\n",
    "    print(f'Recall    : {recall}')\n",
    "    print(f'F1-Score  : {fl}')\n",
    "    print('-' * 60)\n",
    "    print(classification_report(y_test,y_pred))\n",
    "    print('-' * 60)\n",
    "    print(f'ROC AUC : {roc_auc}')\n",
    "    print('=' * 80)\n",
    "    \n",
    "    return accuracy, precision, recall, fl, roc_auc"
   ]
  },
  {
   "cell_type": "code",
   "execution_count": null,
   "metadata": {},
   "outputs": [],
   "source": [
    "class_weights = ['Balanced', 'SqrtBalanced']\n",
    "\n",
    "for class_weight in class_weights:\n",
    "    X, y = X_samples['Raw'], y_samples['Raw']\n",
    "    \n",
    "    print('=' * 80)\n",
    "    print('Raw')\n",
    "    show_data_info(y)\n",
    "    \n",
    "      clf = KNeighborsClassifier(n_neighbors = 5,n_jobs=-1)\n",
    "    clf.fit(X, y)\n",
    "    print(\"classifier created\")\n",
    "\n",
    "    print(f'KNN {key}')\n",
    "    result = evaluate_model(clf, X_test, y_test)\n",
    "    \n",
    "    clfs[class_weight] = clf\n",
    "    results[class_weight] = result"
   ]
  },
  {
   "cell_type": "code",
   "execution_count": null,
   "metadata": {},
   "outputs": [],
   "source": [
    "cols = ['Accuracy', 'Precision', 'Recall', 'F1-Score', 'ROC_AUC']\n",
    "    \n",
    "evaluation = pd.DataFrame(results, index=cols)\n",
    "evaluation.index.set_names('Score', inplace=True)\n",
    "evaluation"
   ]
  },
  {
   "cell_type": "code",
   "execution_count": null,
   "metadata": {},
   "outputs": [],
   "source": [
    "evaluation.plot(y=X_samples.keys(), kind=\"bar\", figsize=(10, 5))\n",
    "plt.legend(loc=(1.01, 0.))\n",
    "plt.show()"
   ]
  }
 ],
 "metadata": {
  "kernelspec": {
   "display_name": "Python 3",
   "language": "python",
   "name": "python3"
  },
  "language_info": {
   "codemirror_mode": {
    "name": "ipython",
    "version": 3
   },
   "file_extension": ".py",
   "mimetype": "text/x-python",
   "name": "python",
   "nbconvert_exporter": "python",
   "pygments_lexer": "ipython3",
   "version": "3.7.0"
  }
 },
 "nbformat": 4,
 "nbformat_minor": 4
}
