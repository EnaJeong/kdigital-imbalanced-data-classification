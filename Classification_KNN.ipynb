{
 "cells": [
  {
   "cell_type": "code",
   "execution_count": 5,
   "metadata": {},
   "outputs": [],
   "source": [
    "import pandas as pd\n",
    "import numpy as np\n",
    "from matplotlib import pyplot as plt\n",
    "from sklearn.neighbors import KNeighborsClassifier\n",
    "from sklearn.metrics import *\n",
    "import pickle"
   ]
  },
  {
   "cell_type": "code",
   "execution_count": 7,
   "metadata": {},
   "outputs": [],
   "source": [
    "pd.set_option(\"display.max_columns\", None)"
   ]
  },
  {
   "cell_type": "code",
   "execution_count": 4,
   "metadata": {},
   "outputs": [
    {
     "name": "stdout",
     "output_type": "stream",
     "text": [
      "4.0\n"
     ]
    }
   ],
   "source": [
    "print(pickle.format_version)"
   ]
  },
  {
   "cell_type": "markdown",
   "metadata": {},
   "source": [
    "# 데이터"
   ]
  },
  {
   "cell_type": "code",
   "execution_count": 8,
   "metadata": {},
   "outputs": [],
   "source": [
    "with open('./datasets/X_samples.pickle', 'rb') as f:\n",
    "    y_samples = pickle.load(f)\n",
    "    \n",
    "with open(f\"./datasets/y_samples.pickle\", \"rb\") as f:\n",
    "    y_samples = pickle.load(f)\n",
    "    \n",
    "with open(f\"./datasets/X_test.pickle\", \"rb\") as f:\n",
    "    X_test = pickle.load(f)\n",
    "    \n",
    "with open(f\"./datasets/y_test.pickle\", \"rb\") as f:\n",
    "    y_test = pickle.load(f)"
   ]
  },
  {
   "cell_type": "code",
   "execution_count": null,
   "metadata": {
    "scrolled": true
   },
   "outputs": [],
   "source": [
    "# # samples는 dict,test는 df \n",
    "# print(X_test.head)\n",
    "# print(y_test.head)\n",
    "# print('X_samples key : ' , X_samples.keys()) \n",
    "# print('y_samples key : ' , y_samples.keys())\n",
    "# # print(X_test.head())\n",
    "# # print(y_test)\n",
    "# # print(type(y_test))"
   ]
  },
  {
   "cell_type": "code",
   "execution_count": null,
   "metadata": {},
   "outputs": [],
   "source": [
    "data_list = ['Raw', 'SMOTE', 'ADASYN', 'CNN', 'SMOTE + ENN', 'ADASYN + ENN']\n",
    "cols = ['Accuracy', 'Precision', 'Recall', 'F1-Score', 'ROC_AUC']"
   ]
  },
  {
   "cell_type": "markdown",
   "metadata": {},
   "source": [
    "# KNN"
   ]
  },
  {
   "cell_type": "markdown",
   "metadata": {},
   "source": [
    "각 분류 모델의 성능을 평가(model selection) 방법\n",
    "1. Accuracy\n",
    "2. Confusion matrix\n",
    "3. Precision, Recall and F-measure(f1score, f-beta-score) \n",
    "4. Receiver operating characteristic (AUC-ROC)"
   ]
  },
  {
   "cell_type": "code",
   "execution_count": null,
   "metadata": {},
   "outputs": [],
   "source": [
    "data_dict = {}\n",
    "for i in data_list:\n",
    "    print(i)\n",
    "    clf.fit(X_samples.get(i), y_samples.get(i))\n",
    "    y_pred = clf.predict(X_test)\n",
    "    y_proba = clf.predict_proba(X_test)\n",
    "\n",
    "    acc = accuracy_score(y_pred, y_test)\n",
    "    precision = metrics.precision_score(y_test, y_pred)\n",
    "    recall = metrics.recall_score(y_test, y_pred)\n",
    "    f1 = metrics.f1_score(y_test, y_pred)\n",
    "    roc_auc = roc_auc_score(y_test, y_proba[:, 1])\n",
    "\n",
    "    data_dict[i] = [acc, precision, recall, f1, roc_auc]\n",
    "\n",
    "df_knn = pd.DataFrame(data_dict, index = cols)\n",
    "print(df_knn)\n",
    "\n"
   ]
  },
  {
   "cell_type": "code",
   "execution_count": null,
   "metadata": {},
   "outputs": [],
   "source": [
    "df_knn = pd.DataFrame(data_dict, index = cols)\n",
    "print(df_knn)\n"
   ]
  },
  {
   "cell_type": "code",
   "execution_count": null,
   "metadata": {},
   "outputs": [],
   "source": [
    "\n",
    "df_knn.plot(kind = 'bar', figsize = (10, 5))\n",
    "plt.legend(loc=(1.01, 0.))\n",
    "plt.xticks(rotation = 0)\n",
    "plt.show()\n"
   ]
  }
 ],
 "metadata": {
  "kernelspec": {
   "display_name": "Python 3",
   "language": "python",
   "name": "python3"
  },
  "language_info": {
   "codemirror_mode": {
    "name": "ipython",
    "version": 3
   },
   "file_extension": ".py",
   "mimetype": "text/x-python",
   "name": "python",
   "nbconvert_exporter": "python",
   "pygments_lexer": "ipython3",
   "version": "3.7.0"
  }
 },
 "nbformat": 4,
 "nbformat_minor": 4
}
