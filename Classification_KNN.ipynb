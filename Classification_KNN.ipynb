{
 "cells": [
  {
   "cell_type": "code",
   "execution_count": 1,
   "metadata": {},
   "outputs": [],
   "source": [
    "import pandas as pd\n",
    "import numpy as np\n",
    "from matplotlib import pyplot as plt\n",
    "from sklearn.neighbors import KNeighborsClassifier\n",
    "from sklearn.metrics import accuracy_score, roc_auc_score\n",
    "import pickle\n",
    "import  sklearn.metrics as metrics"
   ]
  },
  {
   "cell_type": "code",
   "execution_count": 2,
   "metadata": {},
   "outputs": [],
   "source": [
    "pd.set_option(\"display.max_columns\", None)"
   ]
  },
  {
   "cell_type": "code",
   "execution_count": 3,
   "metadata": {},
   "outputs": [
    {
     "name": "stdout",
     "output_type": "stream",
     "text": [
      "4.0\n"
     ]
    }
   ],
   "source": [
    "print(pickle.format_version)"
   ]
  },
  {
   "cell_type": "markdown",
   "metadata": {},
   "source": [
    "# 데이터"
   ]
  },
  {
   "cell_type": "code",
   "execution_count": 4,
   "metadata": {},
   "outputs": [],
   "source": [
    "X_samples = pickle.load(open('./datasets/X_samples.pickle', 'rb')) \n",
    "X_test = pickle.load(open('./datasets/X_test.pickle', 'rb'))\n",
    "y_samples = pickle.load(open('./datasets/y_samples.pickle', 'rb'))\n",
    "y_test = pickle.load(open('./datasets/y_test.pickle', 'rb'))"
   ]
  },
  {
   "cell_type": "code",
   "execution_count": 5,
   "metadata": {},
   "outputs": [
    {
     "data": {
      "text/plain": [
       "'1.1.5'"
      ]
     },
     "execution_count": 5,
     "metadata": {},
     "output_type": "execute_result"
    }
   ],
   "source": [
    "# pd.__version__"
   ]
  },
  {
   "cell_type": "code",
   "execution_count": 6,
   "metadata": {},
   "outputs": [
    {
     "name": "stdout",
     "output_type": "stream",
     "text": [
      "Requirement already satisfied: pandas==1.1.5 in c:\\programdata\\anaconda3\\lib\\site-packages (1.1.5)\n",
      "Requirement already satisfied: pytz>=2017.2 in c:\\programdata\\anaconda3\\lib\\site-packages (from pandas==1.1.5) (2020.1)\n",
      "Requirement already satisfied: numpy>=1.15.4 in c:\\programdata\\anaconda3\\lib\\site-packages (from pandas==1.1.5) (1.18.5)\n",
      "Requirement already satisfied: python-dateutil>=2.7.3 in c:\\programdata\\anaconda3\\lib\\site-packages (from pandas==1.1.5) (2.8.1)\n",
      "Requirement already satisfied: six>=1.5 in c:\\programdata\\anaconda3\\lib\\site-packages (from python-dateutil>=2.7.3->pandas==1.1.5) (1.15.0)\n",
      "Note: you may need to restart the kernel to use updated packages.\n"
     ]
    }
   ],
   "source": [
    "# pip install pandas==1.1.5"
   ]
  },
  {
   "cell_type": "code",
   "execution_count": null,
   "metadata": {},
   "outputs": [],
   "source": [
    "# samples는 dict,그 dict의 value는 df \n",
    "# type(X_samples)\n",
    "# X_samples['Raw']\n",
    "print(X_samples.get('Raw'))\n",
    "print('X_samples key : ' , X_samples.keys()) \n",
    "print('y_samples key : ' , y_samples.keys())"
   ]
  },
  {
   "cell_type": "code",
   "execution_count": 8,
   "metadata": {},
   "outputs": [],
   "source": [
    "data_list = ['Raw', 'SMOTE', 'ADASYN', 'CNN', 'SMOTE + ENN', 'ADASYN + ENN']\n",
    "cols = ['Accuracy', 'Precision', 'Recall', 'F1-Score', 'ROC_AUC']"
   ]
  },
  {
   "cell_type": "markdown",
   "metadata": {},
   "source": [
    "# KNN"
   ]
  },
  {
   "cell_type": "markdown",
   "metadata": {},
   "source": [
    "각 분류 모델의 성능을 평가(model selection) 방법\n",
    "1. Accuracy\n",
    "2. Confusion matrix\n",
    "3. Precision, Recall and F-measure(f1score, f-beta-score) \n",
    "4. Receiver operating characteristic (AUC-ROC)"
   ]
  },
  {
   "cell_type": "code",
   "execution_count": 9,
   "metadata": {
    "scrolled": true
   },
   "outputs": [
    {
     "name": "stdout",
     "output_type": "stream",
     "text": [
      "Raw\n",
      "SMOTE\n",
      "ADASYN\n",
      "CNN\n",
      "SMOTE + ENN\n",
      "ADASYN + ENN\n",
      "                Raw     SMOTE    ADASYN       CNN  SMOTE + ENN  ADASYN + ENN\n",
      "Accuracy   0.999491  0.998016  0.998016  0.998683     0.997683      0.997683\n",
      "Precision  0.911392  0.445087  0.445087  0.571429     0.402062      0.402062\n",
      "Recall     0.765957  0.819149  0.819149  0.808511     0.829787      0.829787\n",
      "F1-Score   0.832370  0.576779  0.576779  0.669604     0.541667      0.541667\n",
      "ROC_AUC    0.909450  0.919699  0.919706  0.928314     0.919492      0.919492\n",
      "Wall time: 1h 3min 10s\n"
     ]
    }
   ],
   "source": [
    "%%time\n",
    "\n",
    "clf =  KNeighborsClassifier(n_neighbors=5)\n",
    "\n",
    "data_dict = {}\n",
    "for i in data_list:\n",
    "    print(i)\n",
    "    clf.fit(X_samples.get(i), y_samples.get(i))\n",
    "    y_pred = clf.predict(X_test)\n",
    "    y_proba = clf.predict_proba(X_test)\n",
    "\n",
    "    acc = accuracy_score(y_pred, y_test)\n",
    "    precision = metrics.precision_score(y_test, y_pred)\n",
    "    recall = metrics.recall_score(y_test, y_pred)\n",
    "    f1 = metrics.f1_score(y_test, y_pred)\n",
    "    roc_auc = roc_auc_score(y_test, y_proba[:, 1])\n",
    "\n",
    "    data_dict[i] = [acc, precision, recall, f1, roc_auc]\n",
    "\n",
    "df_knn = pd.DataFrame(data_dict, index = cols)\n",
    "print(df_knn)\n",
    "\n"
   ]
  },
  {
   "cell_type": "code",
   "execution_count": 11,
   "metadata": {
    "scrolled": true
   },
   "outputs": [
    {
     "data": {
      "image/png": "[encoded data removed]",
      "text/plain": [
       "<Figure size 720x360 with 1 Axes>"
      ]
     },
     "metadata": {
      "needs_background": "light"
     },
     "output_type": "display_data"
    }
   ],
   "source": [
    "df_knn.plot(kind = 'bar', figsize = (10, 5))\n",
    "plt.legend(loc=(1.01, 0.))\n",
    "plt.xticks(rotation = 0)\n",
    "plt.show()\n"
   ]
  }
 ],
 "metadata": {
  "kernelspec": {
   "display_name": "Python 3",
   "language": "python",
   "name": "python3"
  },
  "language_info": {
   "codemirror_mode": {
    "name": "ipython",
    "version": 3
   },
   "file_extension": ".py",
   "mimetype": "text/x-python",
   "name": "python",
   "nbconvert_exporter": "python",
   "pygments_lexer": "ipython3",
   "version": "3.7.7"
  }
 },
 "nbformat": 4,
 "nbformat_minor": 4
}
