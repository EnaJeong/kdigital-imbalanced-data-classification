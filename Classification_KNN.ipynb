{
 "cells": [
  {
   "cell_type": "code",
   "execution_count": 1,
   "metadata": {},
   "outputs": [],
   "source": [
    "import pandas as pd\n",
    "import numpy as np\n",
    "from matplotlib import pyplot as plt\n",
    "from sklearn.neighbors import KNeighborsClassifier\n",
    "from sklearn.metrics import accuracy_score, roc_auc_score\n",
    "import pickle\n",
    "import  sklearn.metrics as metrics"
   ]
  },
  {
   "cell_type": "code",
   "execution_count": 2,
   "metadata": {},
   "outputs": [],
   "source": [
    "pd.set_option(\"display.max_columns\", None)"
   ]
  },
  {
   "cell_type": "code",
   "execution_count": 3,
   "metadata": {},
   "outputs": [
    {
     "name": "stdout",
     "output_type": "stream",
     "text": [
      "4.0\n"
     ]
    }
   ],
   "source": [
    "print(pickle.format_version)"
   ]
  },
  {
   "cell_type": "markdown",
   "metadata": {},
   "source": [
    "# 데이터"
   ]
  },
  {
   "cell_type": "code",
   "execution_count": 4,
   "metadata": {},
   "outputs": [],
   "source": [
    "X_samples = pickle.load(open('./datasets/X_samples.pickle', 'rb')) \n",
    "X_test = pickle.load(open('./datasets/X_test.pickle', 'rb'))\n",
    "y_samples = pickle.load(open('./datasets/y_samples.pickle', 'rb'))\n",
    "y_test = pickle.load(open('./datasets/y_test.pickle', 'rb'))"
   ]
  },
  {
   "cell_type": "code",
   "execution_count": 5,
   "metadata": {},
   "outputs": [
    {
     "data": {
      "text/plain": [
       "'1.1.5'"
      ]
     },
     "execution_count": 5,
     "metadata": {},
     "output_type": "execute_result"
    }
   ],
   "source": [
    "# pd.__version__"
   ]
  },
  {
   "cell_type": "code",
   "execution_count": 6,
   "metadata": {},
   "outputs": [
    {
     "name": "stdout",
     "output_type": "stream",
     "text": [
      "Requirement already satisfied: pandas==1.1.5 in c:\\programdata\\anaconda3\\lib\\site-packages (1.1.5)\n",
      "Requirement already satisfied: pytz>=2017.2 in c:\\programdata\\anaconda3\\lib\\site-packages (from pandas==1.1.5) (2020.1)\n",
      "Requirement already satisfied: numpy>=1.15.4 in c:\\programdata\\anaconda3\\lib\\site-packages (from pandas==1.1.5) (1.18.5)\n",
      "Requirement already satisfied: python-dateutil>=2.7.3 in c:\\programdata\\anaconda3\\lib\\site-packages (from pandas==1.1.5) (2.8.1)\n",
      "Requirement already satisfied: six>=1.5 in c:\\programdata\\anaconda3\\lib\\site-packages (from python-dateutil>=2.7.3->pandas==1.1.5) (1.15.0)\n",
      "Note: you may need to restart the kernel to use updated packages.\n"
     ]
    }
   ],
   "source": [
    "# pip install pandas==1.1.5"
   ]
  },
  {
   "cell_type": "code",
   "execution_count": 7,
   "metadata": {
    "scrolled": true
   },
   "outputs": [
    {
     "name": "stdout",
     "output_type": "stream",
     "text": [
      "            Time        V1        V2        V3        V4        V5        V6  \\\n",
      "143144  0.005428 -0.540939  0.637584  2.439590  1.316115  0.742650  1.671102   \n",
      "258914  0.871545  1.923123 -1.555096  0.211476 -0.174906 -1.760650  0.456333   \n",
      "51111  -0.468709 -1.939810 -1.039497  0.429346 -0.198014  2.693946 -2.792994   \n",
      "146949  0.038652 -0.801246  1.067120  0.506310 -2.533708  0.597024 -1.446026   \n",
      "135606 -0.039556 -0.280807  1.109719  0.944761 -0.132693  0.423860 -0.509289   \n",
      "...          ...       ...       ...       ...       ...       ...       ...   \n",
      "221661  0.680894 -1.196213  1.679891 -0.939175 -1.133975  0.521005 -0.211571   \n",
      "129871 -0.064169  1.175454 -0.001898  1.235163  1.395858 -0.990710 -0.272728   \n",
      "185352  0.492710  0.465324 -3.487401 -4.042365 -0.107532  0.022031 -0.114303   \n",
      "61180  -0.411119 -0.383532  0.981614  1.235659  0.025899  0.081234 -0.545057   \n",
      "88583  -0.264218  1.108338 -0.152494  0.987418  1.017217 -0.395630  0.992727   \n",
      "\n",
      "              V7        V8        V9       V10       V11       V12       V13  \\\n",
      "143144  0.280149  0.293844  0.026988 -0.120361 -1.040090  1.148056  1.069975   \n",
      "258914 -1.652432  0.375407  0.892833  0.788104 -0.439165  0.143663 -1.216406   \n",
      "51111  -0.279832  0.114651 -0.089721 -1.381296  0.012582 -0.794746 -1.833108   \n",
      "146949  1.376331 -0.269470  0.208041 -0.934162 -0.882872  0.294591  0.305609   \n",
      "135606  0.698370 -0.020385 -0.333794 -0.510310 -0.965409 -0.370223  0.236423   \n",
      "...          ...       ...       ...       ...       ...       ...       ...   \n",
      "221661  0.487446  0.500638  0.364638  0.758567 -0.206917  0.685502  0.178659   \n",
      "129871 -0.605885  0.103581  0.808439 -0.059916 -0.819540  0.009243 -0.506776   \n",
      "185352  1.643338 -0.613263 -1.390360  0.776979 -0.413235 -0.162572 -0.164341   \n",
      "61180   0.540779  0.146734 -0.180970 -0.514086 -0.235867 -0.761320 -1.344260   \n",
      "88583  -0.744097  0.414388  0.659909 -0.080633  0.531304  1.081777  0.149245   \n",
      "\n",
      "             V14       V15       V16       V17       V18       V19       V20  \\\n",
      "143144 -1.459141 -3.824216  0.491091 -1.028001  0.063102 -0.238231 -0.055148   \n",
      "258914 -0.490535 -1.399096 -1.090021 -0.139776  1.841343 -0.211423 -0.579051   \n",
      "51111  -1.042923  0.078999  0.731580  0.874212 -0.062750 -2.448978  0.138139   \n",
      "146949  0.004751 -0.519378  0.256430 -0.860309 -0.884299 -0.800661  0.057025   \n",
      "135606 -0.473865  0.957233  0.627924 -0.294280  0.137636  0.224564  0.138997   \n",
      "...          ...       ...       ...       ...       ...       ...       ...   \n",
      "221661  0.282547 -0.952394  0.404554 -0.867630 -0.013554  0.418958  0.398187   \n",
      "129871 -0.143679  0.647934  0.312999 -0.388950  0.275619 -0.477927 -0.181618   \n",
      "185352  1.115391 -0.789985 -1.588572 -0.438548  1.752119 -0.237628  1.341593   \n",
      "61180  -0.114051  1.303851  0.157789  0.369257 -0.410689 -0.439976 -0.010394   \n",
      "88583  -0.194931 -0.230272  0.178417 -0.476166  0.197014 -0.022740 -0.118649   \n",
      "\n",
      "             V21       V22       V23       V24       V25       V26       V27  \\\n",
      "143144 -0.270409 -0.238482 -0.338757 -1.002661 -0.060379 -0.276043 -0.001160   \n",
      "258914 -0.393833 -0.502683  0.288658 -0.366769 -0.662372  0.528734  0.010908   \n",
      "51111   0.194420 -0.143151  0.354888  0.213072 -0.471635 -0.058909  0.034189   \n",
      "146949 -0.315741 -0.753499 -0.129894 -0.093705 -0.003377  0.381592  0.337806   \n",
      "135606 -0.319014 -0.844576 -0.118004 -0.520341 -0.049944  0.124567  0.244372   \n",
      "...          ...       ...       ...       ...       ...       ...       ...   \n",
      "221661 -0.355852 -0.736666  0.026512 -1.180159 -0.157482  0.214005  0.537133   \n",
      "129871  0.113552  0.484107 -0.077394  0.392133  0.488166 -0.239944  0.064726   \n",
      "185352  0.437768 -0.345125 -1.040591 -0.302842  0.278728  0.936681 -0.314914   \n",
      "61180  -0.252749 -0.692668  0.032347 -0.016713 -0.282244  0.106386  0.252681   \n",
      "88583  -0.025005  0.132992 -0.076579 -0.655132  0.405907 -0.355048  0.084199   \n",
      "\n",
      "             V28     Amount  \n",
      "143144 -0.093342  -0.296793  \n",
      "258914 -0.041962   0.565919  \n",
      "51111   0.240607  -0.296793  \n",
      "146949  0.223898  -0.237546  \n",
      "135606  0.089572  -0.253336  \n",
      "...          ...        ...  \n",
      "221661  0.274390  -0.181793  \n",
      "129871  0.033867  -0.293440  \n",
      "185352  0.057967  13.110878  \n",
      "61180   0.091742  -0.255991  \n",
      "88583   0.018615  -0.125900  \n",
      "\n",
      "[227845 rows x 30 columns]\n",
      "X_samples key :  dict_keys(['Raw', 'SMOTE', 'ADASYN', 'CNN', 'Tomek Links', 'SMOTE + ENN', 'SMOTE + Tomek', 'ADASYN + ENN', 'SVMSMOTE + ENN'])\n",
      "y_samples key :  dict_keys(['Raw', 'SMOTE', 'ADASYN', 'CNN', 'Tomek Links', 'SMOTE + ENN', 'SMOTE + Tomek', 'ADASYN + ENN', 'SVMSMOTE + ENN'])\n"
     ]
    }
   ],
   "source": [
    "# samples는 dict,test는 df \n",
    "# type(X_samples)\n",
    "# X_samples['Raw']\n",
    "print(X_samples.get('Raw'))\n",
    "print('X_samples key : ' , X_samples.keys()) \n",
    "print('y_samples key : ' , y_samples.keys())"
   ]
  },
  {
   "cell_type": "code",
   "execution_count": 8,
   "metadata": {},
   "outputs": [],
   "source": [
    "data_list = ['Raw', 'SMOTE', 'ADASYN', 'CNN', 'SMOTE + ENN', 'ADASYN + ENN']\n",
    "cols = ['Accuracy', 'Precision', 'Recall', 'F1-Score', 'ROC_AUC']"
   ]
  },
  {
   "cell_type": "markdown",
   "metadata": {},
   "source": [
    "# KNN"
   ]
  },
  {
   "cell_type": "markdown",
   "metadata": {},
   "source": [
    "각 분류 모델의 성능을 평가(model selection) 방법\n",
    "1. Accuracy\n",
    "2. Confusion matrix\n",
    "3. Precision, Recall and F-measure(f1score, f-beta-score) \n",
    "4. Receiver operating characteristic (AUC-ROC)"
   ]
  },
  {
   "cell_type": "code",
   "execution_count": null,
   "metadata": {},
   "outputs": [
    {
     "name": "stdout",
     "output_type": "stream",
     "text": [
      "Raw\n"
     ]
    }
   ],
   "source": [
    "%%time\n",
    "\n",
    "clf =  KNeighborsClassifier(n_neighbors=5)\n",
    "\n",
    "data_dict = {}\n",
    "for i in data_list:\n",
    "    print(i)\n",
    "    clf.fit(X_samples.get(i), y_samples.get(i))\n",
    "    y_pred = clf.predict(X_test)\n",
    "    y_proba = clf.predict_proba(X_test)\n",
    "\n",
    "    acc = accuracy_score(y_pred, y_test)\n",
    "    precision = metrics.precision_score(y_test, y_pred)\n",
    "    recall = metrics.recall_score(y_test, y_pred)\n",
    "    f1 = metrics.f1_score(y_test, y_pred)\n",
    "    roc_auc = roc_auc_score(y_test, y_proba[:, 1])\n",
    "\n",
    "    data_dict[i] = [acc, precision, recall, f1, roc_auc]\n",
    "\n",
    "df_knn = pd.DataFrame(data_dict, index = cols)\n",
    "print(df_knn)\n",
    "\n"
   ]
  },
  {
   "cell_type": "code",
   "execution_count": null,
   "metadata": {},
   "outputs": [],
   "source": [
    "df_knn = pd.DataFrame(data_dict, index = cols)\n",
    "print(df_knn)"
   ]
  },
  {
   "cell_type": "code",
   "execution_count": null,
   "metadata": {},
   "outputs": [],
   "source": [
    "df_knn.plot(kind = 'bar', figsize = (10, 5))\n",
    "plt.legend(loc=(1.01, 0.))\n",
    "plt.xticks(rotation = 0)\n",
    "plt.show()\n"
   ]
  },
  {
   "cell_type": "markdown",
   "metadata": {},
   "source": [
    "# Balanced"
   ]
  },
  {
   "cell_type": "code",
   "execution_count": null,
   "metadata": {},
   "outputs": [],
   "source": [
    "knn = KNNClassifier(class_weight='balanced')\n"
   ]
  },
  {
   "cell_type": "code",
   "execution_count": null,
   "metadata": {},
   "outputs": [],
   "source": [
    "%%time\n",
    "\n",
    "knn.fit(X_samples['Raw'], y_samples['Raw'], eval_set=(X_test, y_test))\n",
    "y_pred = knn.predict(X_test)\n",
    "y_proba = knn.predict_proba(X_test)\n",
    "\n",
    "acc = accuracy_score(y_test, y_pred)\n",
    "precision = metrics.precision_score(y_test, y_pred)\n",
    "recall = metrics.recall_score(y_test, y_pred)\n",
    "f1 = metrics.f1_score(y_test, y_pred)\n",
    "roc_auc = roc_auc_score(y_test, y_proba[:, 1])\n",
    "\n",
    "data_dict['Balanced'] = [acc, precision, recall, f1, roc_auc]"
   ]
  },
  {
   "cell_type": "code",
   "execution_count": null,
   "metadata": {},
   "outputs": [],
   "source": [
    "df_knn = pd.DataFrame(data_dict, index = cols)\n",
    "print(df_knn)"
   ]
  },
  {
   "cell_type": "code",
   "execution_count": null,
   "metadata": {},
   "outputs": [],
   "source": [
    "df_knn.plot(kind = 'bar', figsize = (10, 5))\n",
    "plt.legend(loc=(1.01, 0.))\n",
    "plt.xticks(rotation = 0)\n",
    "plt.show()"
   ]
  },
  {
   "cell_type": "markdown",
   "metadata": {},
   "source": [
    "\n",
    "# goss : Gradient-based One-Side Sampling"
   ]
  },
  {
   "cell_type": "code",
   "execution_count": null,
   "metadata": {},
   "outputs": [],
   "source": [
    "knn = KNNClassifier(boosting_type = 'goss')"
   ]
  },
  {
   "cell_type": "code",
   "execution_count": null,
   "metadata": {},
   "outputs": [],
   "source": [
    "data_dict_param = {}\n",
    "for data in data_list:\n",
    "    print(data)\n",
    "    knn.fit(X_samples[data], y_samples[data])\n",
    "    y_pred = knn.predict(X_test)\n",
    "    y_proba = knn.predict_proba(X_test)\n",
    "    \n",
    "    acc = accuracy_score(y_pred, y_test)\n",
    "    precision = metrics.precision_score(y_test, y_pred)\n",
    "    recall = metrics.recall_score(y_test, y_pred)\n",
    "    f1 = metrics.f1_score(y_test, y_pred)\n",
    "    roc_auc = roc_auc_score(y_test, y_proba[:, 1])\n",
    "    \n",
    "    data_dict_param[data] = [acc, precision, recall, f1, roc_auc]\n",
    "# print(data_dict)"
   ]
  },
  {
   "cell_type": "code",
   "execution_count": null,
   "metadata": {},
   "outputs": [],
   "source": [
    "df_goss = pd.DataFrame(data_dict_param, index = cols)\n",
    "print(df_goss)"
   ]
  },
  {
   "cell_type": "code",
   "execution_count": null,
   "metadata": {},
   "outputs": [],
   "source": [
    "df_goss.plot(kind='bar', figsize = (10, 5))\n",
    "plt.legend(loc=(1.01, 0.))\n",
    "plt.xticks(rotation = 0)\n",
    "plt.show()"
   ]
  }
 ],
 "metadata": {
  "kernelspec": {
   "display_name": "Python 3",
   "language": "python",
   "name": "python3"
  },
  "language_info": {
   "codemirror_mode": {
    "name": "ipython",
    "version": 3
   },
   "file_extension": ".py",
   "mimetype": "text/x-python",
   "name": "python",
   "nbconvert_exporter": "python",
   "pygments_lexer": "ipython3",
   "version": "3.7.7"
  }
 },
 "nbformat": 4,
 "nbformat_minor": 4
}
